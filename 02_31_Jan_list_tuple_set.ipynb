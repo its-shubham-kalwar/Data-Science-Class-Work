{
 "cells": [
  {
   "cell_type": "code",
   "execution_count": 1,
   "id": "609be19d-4b3c-42b4-b0bd-22beea9d54ca",
   "metadata": {},
   "outputs": [],
   "source": [
    "l = [1,345,\"Shubham\",5+6j,56]"
   ]
  },
  {
   "cell_type": "code",
   "execution_count": 2,
   "id": "35d6d897-5b44-40da-b98f-91a327b39c13",
   "metadata": {},
   "outputs": [
    {
     "name": "stdout",
     "output_type": "stream",
     "text": [
      "[1, 345, 'Shubham', (5+6j), 56]\n"
     ]
    }
   ],
   "source": [
    "print(l)"
   ]
  },
  {
   "cell_type": "code",
   "execution_count": 3,
   "id": "fa090a85-8d9f-4cbd-bc6f-5ca8eebf1a4f",
   "metadata": {},
   "outputs": [
    {
     "data": {
      "text/plain": [
       "list"
      ]
     },
     "execution_count": 3,
     "metadata": {},
     "output_type": "execute_result"
    }
   ],
   "source": [
    "type(l)"
   ]
  },
  {
   "cell_type": "code",
   "execution_count": 4,
   "id": "2598647c-ef91-4128-90da-c031db2f3a4b",
   "metadata": {},
   "outputs": [
    {
     "data": {
      "text/plain": [
       "1"
      ]
     },
     "execution_count": 4,
     "metadata": {},
     "output_type": "execute_result"
    }
   ],
   "source": [
    "l[0]"
   ]
  },
  {
   "cell_type": "code",
   "execution_count": 5,
   "id": "ce49fc1a-4049-4e48-867a-696da4038406",
   "metadata": {},
   "outputs": [
    {
     "ename": "IndexError",
     "evalue": "list index out of range",
     "output_type": "error",
     "traceback": [
      "\u001b[0;31m---------------------------------------------------------------------------\u001b[0m",
      "\u001b[0;31mIndexError\u001b[0m                                Traceback (most recent call last)",
      "Cell \u001b[0;32mIn[5], line 1\u001b[0m\n\u001b[0;32m----> 1\u001b[0m \u001b[43ml\u001b[49m\u001b[43m[\u001b[49m\u001b[38;5;241;43m6\u001b[39;49m\u001b[43m]\u001b[49m\n",
      "\u001b[0;31mIndexError\u001b[0m: list index out of range"
     ]
    }
   ],
   "source": [
    "l[6]"
   ]
  },
  {
   "cell_type": "code",
   "execution_count": null,
   "id": "fc12be33-e638-49bb-b121-d82fc58b4b98",
   "metadata": {},
   "outputs": [],
   "source": [
    "l[4]"
   ]
  },
  {
   "cell_type": "code",
   "execution_count": 6,
   "id": "e41a8f35-9515-4629-9979-c7bf679949f5",
   "metadata": {},
   "outputs": [
    {
     "data": {
      "text/plain": [
       "[1, 345, 'Shubham', (5+6j), 56]"
      ]
     },
     "execution_count": 6,
     "metadata": {},
     "output_type": "execute_result"
    }
   ],
   "source": [
    "l"
   ]
  },
  {
   "cell_type": "code",
   "execution_count": 7,
   "id": "0311e46b-120a-44d4-8464-6135a56fd3be",
   "metadata": {},
   "outputs": [
    {
     "data": {
      "text/plain": [
       "[1, 345, 'Shubham']"
      ]
     },
     "execution_count": 7,
     "metadata": {},
     "output_type": "execute_result"
    }
   ],
   "source": [
    "l[0:3]"
   ]
  },
  {
   "cell_type": "code",
   "execution_count": 8,
   "id": "97c6129c-0ec2-4ade-8ff1-16dee5639f73",
   "metadata": {},
   "outputs": [
    {
     "data": {
      "text/plain": [
       "[56, (5+6j), 'Shubham', 345, 1]"
      ]
     },
     "execution_count": 8,
     "metadata": {},
     "output_type": "execute_result"
    }
   ],
   "source": [
    "l[::-1]"
   ]
  },
  {
   "cell_type": "code",
   "execution_count": 9,
   "id": "963c1d99-18f5-4933-a453-3281e684db10",
   "metadata": {},
   "outputs": [
    {
     "data": {
      "text/plain": [
       "56"
      ]
     },
     "execution_count": 9,
     "metadata": {},
     "output_type": "execute_result"
    }
   ],
   "source": [
    "l[-1]"
   ]
  },
  {
   "cell_type": "code",
   "execution_count": 10,
   "id": "def10f84-a47f-4ddd-b909-0be42336dc57",
   "metadata": {},
   "outputs": [
    {
     "data": {
      "text/plain": [
       "[1, 'Shubham', 56]"
      ]
     },
     "execution_count": 10,
     "metadata": {},
     "output_type": "execute_result"
    }
   ],
   "source": [
    "l[::2]"
   ]
  },
  {
   "cell_type": "code",
   "execution_count": 11,
   "id": "f4d3b3a2-cf7d-4599-8f88-f01be8b3e6ce",
   "metadata": {},
   "outputs": [],
   "source": [
    "s = 'Shubham'"
   ]
  },
  {
   "cell_type": "code",
   "execution_count": 12,
   "id": "d12459a8-f4de-4d35-9ee9-89122198f06f",
   "metadata": {},
   "outputs": [
    {
     "data": {
      "text/plain": [
       "'Shubham'"
      ]
     },
     "execution_count": 12,
     "metadata": {},
     "output_type": "execute_result"
    }
   ],
   "source": [
    "s"
   ]
  },
  {
   "cell_type": "code",
   "execution_count": 13,
   "id": "1720c2c8-f57e-4caa-ba3e-984caa6f1d6f",
   "metadata": {},
   "outputs": [
    {
     "data": {
      "text/plain": [
       "[1, 345, 'Shubham', (5+6j), 56]"
      ]
     },
     "execution_count": 13,
     "metadata": {},
     "output_type": "execute_result"
    }
   ],
   "source": [
    "l"
   ]
  },
  {
   "cell_type": "code",
   "execution_count": 14,
   "id": "6488c6d0-2ac8-4810-a434-49d581f39cd4",
   "metadata": {},
   "outputs": [],
   "source": [
    "l = [1,345,\"Shubham\",5+6j,56]"
   ]
  },
  {
   "cell_type": "code",
   "execution_count": 15,
   "id": "9b1a5aac-4d3f-4de1-bfde-a855d698ca09",
   "metadata": {},
   "outputs": [
    {
     "ename": "TypeError",
     "evalue": "can only concatenate list (not \"str\") to list",
     "output_type": "error",
     "traceback": [
      "\u001b[0;31m---------------------------------------------------------------------------\u001b[0m",
      "\u001b[0;31mTypeError\u001b[0m                                 Traceback (most recent call last)",
      "Cell \u001b[0;32mIn[15], line 1\u001b[0m\n\u001b[0;32m----> 1\u001b[0m \u001b[43ml\u001b[49m\u001b[38;5;241;43m+\u001b[39;49m\u001b[43ms\u001b[49m\n",
      "\u001b[0;31mTypeError\u001b[0m: can only concatenate list (not \"str\") to list"
     ]
    }
   ],
   "source": [
    "l+s"
   ]
  },
  {
   "cell_type": "code",
   "execution_count": 16,
   "id": "6e773ce1-dc79-449e-a7d0-3ddb8a124453",
   "metadata": {},
   "outputs": [
    {
     "data": {
      "text/plain": [
       "['S', 'h', 'u', 'b', 'h', 'a', 'm']"
      ]
     },
     "execution_count": 16,
     "metadata": {},
     "output_type": "execute_result"
    }
   ],
   "source": [
    "list(s)"
   ]
  },
  {
   "cell_type": "code",
   "execution_count": 17,
   "id": "90afab4c-e868-4d88-80e7-2f119dc3647a",
   "metadata": {},
   "outputs": [
    {
     "data": {
      "text/plain": [
       "['S', 'h', 'u', 'b', 'h', 'a', 'm', 1, 345, 'Shubham', (5+6j), 56]"
      ]
     },
     "execution_count": 17,
     "metadata": {},
     "output_type": "execute_result"
    }
   ],
   "source": [
    "list(s)+l"
   ]
  },
  {
   "cell_type": "code",
   "execution_count": 18,
   "id": "b5d599f9-b10c-4f8b-9724-1b0083f52fb6",
   "metadata": {},
   "outputs": [
    {
     "data": {
      "text/plain": [
       "[1, 345, 'Shubham', (5+6j), 56]"
      ]
     },
     "execution_count": 18,
     "metadata": {},
     "output_type": "execute_result"
    }
   ],
   "source": [
    "l"
   ]
  },
  {
   "cell_type": "code",
   "execution_count": 19,
   "id": "78bc16df-4b98-46a2-9fcf-ad4e77a708e9",
   "metadata": {},
   "outputs": [
    {
     "data": {
      "text/plain": [
       "(5+6j)"
      ]
     },
     "execution_count": 19,
     "metadata": {},
     "output_type": "execute_result"
    }
   ],
   "source": [
    "l[3]"
   ]
  },
  {
   "cell_type": "code",
   "execution_count": 20,
   "id": "53d6ff5f-c49d-41ce-9e03-567209e81394",
   "metadata": {},
   "outputs": [
    {
     "data": {
      "text/plain": [
       "'Shubham'"
      ]
     },
     "execution_count": 20,
     "metadata": {},
     "output_type": "execute_result"
    }
   ],
   "source": [
    "l[2]"
   ]
  },
  {
   "cell_type": "code",
   "execution_count": 21,
   "id": "a44b5910-7e08-433c-83f5-a39d4410a324",
   "metadata": {},
   "outputs": [
    {
     "data": {
      "text/plain": [
       "'Shu'"
      ]
     },
     "execution_count": 21,
     "metadata": {},
     "output_type": "execute_result"
    }
   ],
   "source": [
    "l[2][0:3]"
   ]
  },
  {
   "cell_type": "code",
   "execution_count": 22,
   "id": "9c00a046-bd84-4019-a50a-68fb118f9e3d",
   "metadata": {},
   "outputs": [
    {
     "ename": "TypeError",
     "evalue": "can only concatenate list (not \"int\") to list",
     "output_type": "error",
     "traceback": [
      "\u001b[0;31m---------------------------------------------------------------------------\u001b[0m",
      "\u001b[0;31mTypeError\u001b[0m                                 Traceback (most recent call last)",
      "Cell \u001b[0;32mIn[22], line 1\u001b[0m\n\u001b[0;32m----> 1\u001b[0m \u001b[43ml\u001b[49m\u001b[43m \u001b[49m\u001b[38;5;241;43m+\u001b[39;49m\u001b[43m \u001b[49m\u001b[38;5;241;43m5\u001b[39;49m\n",
      "\u001b[0;31mTypeError\u001b[0m: can only concatenate list (not \"int\") to list"
     ]
    }
   ],
   "source": [
    "l + 5"
   ]
  },
  {
   "cell_type": "code",
   "execution_count": 23,
   "id": "f9a8ea0c-2755-42c3-83f8-c3061a33aca1",
   "metadata": {},
   "outputs": [
    {
     "ename": "TypeError",
     "evalue": "can only concatenate str (not \"list\") to str",
     "output_type": "error",
     "traceback": [
      "\u001b[0;31m---------------------------------------------------------------------------\u001b[0m",
      "\u001b[0;31mTypeError\u001b[0m                                 Traceback (most recent call last)",
      "Cell \u001b[0;32mIn[23], line 1\u001b[0m\n\u001b[0;32m----> 1\u001b[0m \u001b[38;5;28;43mstr\u001b[39;49m\u001b[43m(\u001b[49m\u001b[38;5;241;43m5\u001b[39;49m\u001b[43m)\u001b[49m\u001b[43m \u001b[49m\u001b[38;5;241;43m+\u001b[39;49m\u001b[43m \u001b[49m\u001b[43ml\u001b[49m\n",
      "\u001b[0;31mTypeError\u001b[0m: can only concatenate str (not \"list\") to str"
     ]
    }
   ],
   "source": [
    "str(5) + l"
   ]
  },
  {
   "cell_type": "code",
   "execution_count": 24,
   "id": "4c3f5e65-1600-40ec-a35e-f4ebcb291130",
   "metadata": {},
   "outputs": [],
   "source": [
    "list = [5] + l"
   ]
  },
  {
   "cell_type": "code",
   "execution_count": 25,
   "id": "921696d2-4827-45bb-a8b9-189cc4eb0bb4",
   "metadata": {},
   "outputs": [
    {
     "data": {
      "text/plain": [
       "[5, 1, 345, 'Shubham', (5+6j), 56]"
      ]
     },
     "execution_count": 25,
     "metadata": {},
     "output_type": "execute_result"
    }
   ],
   "source": [
    "list"
   ]
  },
  {
   "cell_type": "code",
   "execution_count": 26,
   "id": "141f13ad-e329-47e1-85f4-e8fcee98d6e6",
   "metadata": {},
   "outputs": [
    {
     "data": {
      "text/plain": [
       "[5,\n",
       " 1,\n",
       " 345,\n",
       " 'Shubham',\n",
       " (5+6j),\n",
       " 56,\n",
       " 5,\n",
       " 1,\n",
       " 345,\n",
       " 'Shubham',\n",
       " (5+6j),\n",
       " 56,\n",
       " 5,\n",
       " 1,\n",
       " 345,\n",
       " 'Shubham',\n",
       " (5+6j),\n",
       " 56]"
      ]
     },
     "execution_count": 26,
     "metadata": {},
     "output_type": "execute_result"
    }
   ],
   "source": [
    "list * 3"
   ]
  },
  {
   "cell_type": "code",
   "execution_count": 27,
   "id": "82cd18dd-2115-427e-86e6-7b772123d05f",
   "metadata": {},
   "outputs": [
    {
     "data": {
      "text/plain": [
       "[1, 345, 'Shubham', (5+6j), 56]"
      ]
     },
     "execution_count": 27,
     "metadata": {},
     "output_type": "execute_result"
    }
   ],
   "source": [
    "l"
   ]
  },
  {
   "cell_type": "code",
   "execution_count": 28,
   "id": "8aa5c15c-07b1-440e-b022-9aa4a44be08c",
   "metadata": {},
   "outputs": [
    {
     "data": {
      "text/plain": [
       "5"
      ]
     },
     "execution_count": 28,
     "metadata": {},
     "output_type": "execute_result"
    }
   ],
   "source": [
    "len(l)"
   ]
  },
  {
   "cell_type": "code",
   "execution_count": 29,
   "id": "2431f972-b83a-4c73-b592-37310061a9c3",
   "metadata": {},
   "outputs": [
    {
     "data": {
      "text/plain": [
       "6"
      ]
     },
     "execution_count": 29,
     "metadata": {},
     "output_type": "execute_result"
    }
   ],
   "source": [
    "len(list)"
   ]
  },
  {
   "cell_type": "code",
   "execution_count": 30,
   "id": "b4327d57-aae8-4d75-8488-8bb3b1409af6",
   "metadata": {},
   "outputs": [],
   "source": [
    "l.append(5)"
   ]
  },
  {
   "cell_type": "code",
   "execution_count": 31,
   "id": "c07c5401-e77e-4227-8202-8b39ffd831cc",
   "metadata": {},
   "outputs": [
    {
     "data": {
      "text/plain": [
       "[1, 345, 'Shubham', (5+6j), 56, 5]"
      ]
     },
     "execution_count": 31,
     "metadata": {},
     "output_type": "execute_result"
    }
   ],
   "source": [
    "l"
   ]
  },
  {
   "cell_type": "code",
   "execution_count": 32,
   "id": "a4a4d483-d845-425c-bab4-284f6477e45e",
   "metadata": {},
   "outputs": [
    {
     "data": {
      "text/plain": [
       "[5, 1, 345, 'Shubham', (5+6j), 56]"
      ]
     },
     "execution_count": 32,
     "metadata": {},
     "output_type": "execute_result"
    }
   ],
   "source": [
    "list"
   ]
  },
  {
   "cell_type": "code",
   "execution_count": 33,
   "id": "d22cd678-1a80-49f2-bd39-d7c7b149241f",
   "metadata": {},
   "outputs": [
    {
     "data": {
      "text/plain": [
       "[1, 345, 'Shubham', (5+6j), 56, 5]"
      ]
     },
     "execution_count": 33,
     "metadata": {},
     "output_type": "execute_result"
    }
   ],
   "source": [
    "l"
   ]
  },
  {
   "cell_type": "code",
   "execution_count": 34,
   "id": "7a225ec7-638c-4cc7-ba3b-86272999390a",
   "metadata": {},
   "outputs": [],
   "source": [
    "l.append(list)"
   ]
  },
  {
   "cell_type": "code",
   "execution_count": 35,
   "id": "7ad111e2-e43f-43a6-836a-7b16895fcca5",
   "metadata": {},
   "outputs": [
    {
     "data": {
      "text/plain": [
       "[1, 345, 'Shubham', (5+6j), 56, 5, [5, 1, 345, 'Shubham', (5+6j), 56]]"
      ]
     },
     "execution_count": 35,
     "metadata": {},
     "output_type": "execute_result"
    }
   ],
   "source": [
    "l"
   ]
  },
  {
   "cell_type": "code",
   "execution_count": 36,
   "id": "d41812f4-c5af-4897-9e7a-133b42337584",
   "metadata": {},
   "outputs": [
    {
     "data": {
      "text/plain": [
       "345"
      ]
     },
     "execution_count": 36,
     "metadata": {},
     "output_type": "execute_result"
    }
   ],
   "source": [
    "l[-1][2]"
   ]
  },
  {
   "cell_type": "code",
   "execution_count": 37,
   "id": "d904e25a-a9ce-4665-9bc5-7d625c8edf54",
   "metadata": {},
   "outputs": [
    {
     "data": {
      "text/plain": [
       "[345]"
      ]
     },
     "execution_count": 37,
     "metadata": {},
     "output_type": "execute_result"
    }
   ],
   "source": [
    "l[1:2]"
   ]
  },
  {
   "cell_type": "code",
   "execution_count": 38,
   "id": "d90e8664-2baf-4cea-982e-3889ffad1eaf",
   "metadata": {},
   "outputs": [
    {
     "data": {
      "text/plain": [
       "[1, 345, 'Shubham', (5+6j), 56, 5, [5, 1, 345, 'Shubham', (5+6j), 56]]"
      ]
     },
     "execution_count": 38,
     "metadata": {},
     "output_type": "execute_result"
    }
   ],
   "source": [
    "l"
   ]
  },
  {
   "cell_type": "code",
   "execution_count": 39,
   "id": "02c0b068-d6fc-429b-b261-f237893da0c3",
   "metadata": {},
   "outputs": [
    {
     "ename": "TypeError",
     "evalue": "'int' object is not iterable",
     "output_type": "error",
     "traceback": [
      "\u001b[0;31m---------------------------------------------------------------------------\u001b[0m",
      "\u001b[0;31mTypeError\u001b[0m                                 Traceback (most recent call last)",
      "Cell \u001b[0;32mIn[39], line 1\u001b[0m\n\u001b[0;32m----> 1\u001b[0m \u001b[43ml\u001b[49m\u001b[38;5;241;43m.\u001b[39;49m\u001b[43mextend\u001b[49m\u001b[43m(\u001b[49m\u001b[38;5;241;43m4\u001b[39;49m\u001b[43m)\u001b[49m\n",
      "\u001b[0;31mTypeError\u001b[0m: 'int' object is not iterable"
     ]
    }
   ],
   "source": [
    "l.extend(4)"
   ]
  },
  {
   "cell_type": "code",
   "execution_count": 40,
   "id": "26b0e212-c5a7-4337-95af-8651149ff7ae",
   "metadata": {},
   "outputs": [],
   "source": [
    "l.extend('Sk')"
   ]
  },
  {
   "cell_type": "code",
   "execution_count": 41,
   "id": "f672f542-e515-406b-ad76-e97ccc1b3d7c",
   "metadata": {},
   "outputs": [
    {
     "data": {
      "text/plain": [
       "[1,\n",
       " 345,\n",
       " 'Shubham',\n",
       " (5+6j),\n",
       " 56,\n",
       " 5,\n",
       " [5, 1, 345, 'Shubham', (5+6j), 56],\n",
       " 'S',\n",
       " 'k']"
      ]
     },
     "execution_count": 41,
     "metadata": {},
     "output_type": "execute_result"
    }
   ],
   "source": [
    "l"
   ]
  },
  {
   "cell_type": "code",
   "execution_count": 42,
   "id": "9feb03cd-8944-4c79-8a90-cffd1faf39f0",
   "metadata": {},
   "outputs": [
    {
     "data": {
      "text/plain": [
       "[5, 1, 345, 'Shubham', (5+6j), 56]"
      ]
     },
     "execution_count": 42,
     "metadata": {},
     "output_type": "execute_result"
    }
   ],
   "source": [
    "list"
   ]
  },
  {
   "cell_type": "code",
   "execution_count": 43,
   "id": "faf2a0d1-8d0c-4cac-86ff-186e5e0fc7d6",
   "metadata": {},
   "outputs": [],
   "source": [
    "li = [2,3,4]"
   ]
  },
  {
   "cell_type": "code",
   "execution_count": 44,
   "id": "6db56a20-d2a5-4889-9ac6-1849e70b0c3e",
   "metadata": {},
   "outputs": [
    {
     "data": {
      "text/plain": [
       "[2, 3, 4]"
      ]
     },
     "execution_count": 44,
     "metadata": {},
     "output_type": "execute_result"
    }
   ],
   "source": [
    "li"
   ]
  },
  {
   "cell_type": "code",
   "execution_count": 45,
   "id": "c43f3582-eb12-4cfe-9124-93769cb411f5",
   "metadata": {},
   "outputs": [],
   "source": [
    "li.insert(1, \"Kbs\")"
   ]
  },
  {
   "cell_type": "code",
   "execution_count": 46,
   "id": "50da839a-4916-4959-8f7f-b0d852d1aa8f",
   "metadata": {},
   "outputs": [
    {
     "data": {
      "text/plain": [
       "[2, 'Kbs', 3, 4]"
      ]
     },
     "execution_count": 46,
     "metadata": {},
     "output_type": "execute_result"
    }
   ],
   "source": [
    "li"
   ]
  },
  {
   "cell_type": "code",
   "execution_count": 47,
   "id": "1ad3f658-5222-4cc2-8ccb-3e23d6e8b1ac",
   "metadata": {},
   "outputs": [],
   "source": [
    "li.insert(2, [5,6])"
   ]
  },
  {
   "cell_type": "code",
   "execution_count": 48,
   "id": "2124a343-6f33-4980-bb08-55026c59bf15",
   "metadata": {},
   "outputs": [
    {
     "data": {
      "text/plain": [
       "[2, 'Kbs', [5, 6], 3, 4]"
      ]
     },
     "execution_count": 48,
     "metadata": {},
     "output_type": "execute_result"
    }
   ],
   "source": [
    "li"
   ]
  },
  {
   "cell_type": "code",
   "execution_count": 49,
   "id": "b3c9a2d6-656e-46db-8513-00c41a0a2382",
   "metadata": {},
   "outputs": [],
   "source": [
    "li.insert(-1, 45)"
   ]
  },
  {
   "cell_type": "code",
   "execution_count": 50,
   "id": "226fdf2b-af4a-467b-9aa6-43164351820e",
   "metadata": {},
   "outputs": [
    {
     "data": {
      "text/plain": [
       "[2, 'Kbs', [5, 6], 3, 45, 4]"
      ]
     },
     "execution_count": 50,
     "metadata": {},
     "output_type": "execute_result"
    }
   ],
   "source": [
    "li"
   ]
  },
  {
   "cell_type": "code",
   "execution_count": 51,
   "id": "82df10ff-a53b-471b-aa87-3627584cd291",
   "metadata": {},
   "outputs": [],
   "source": [
    "li.insert(2,[7,7])"
   ]
  },
  {
   "cell_type": "code",
   "execution_count": 52,
   "id": "3667faba-d358-4087-a884-587b2bb76b04",
   "metadata": {},
   "outputs": [
    {
     "data": {
      "text/plain": [
       "[2, 'Kbs', [7, 7], [5, 6], 3, 45, 4]"
      ]
     },
     "execution_count": 52,
     "metadata": {},
     "output_type": "execute_result"
    }
   ],
   "source": [
    "li"
   ]
  },
  {
   "cell_type": "code",
   "execution_count": 53,
   "id": "85644a97-9da0-43e4-abc8-0bd8311526fb",
   "metadata": {},
   "outputs": [
    {
     "data": {
      "text/plain": [
       "4"
      ]
     },
     "execution_count": 53,
     "metadata": {},
     "output_type": "execute_result"
    }
   ],
   "source": [
    "li.pop()"
   ]
  },
  {
   "cell_type": "code",
   "execution_count": 54,
   "id": "a7931af7-0973-4273-a05c-a31b9689390c",
   "metadata": {},
   "outputs": [
    {
     "data": {
      "text/plain": [
       "[2, 'Kbs', [7, 7], [5, 6], 3, 45]"
      ]
     },
     "execution_count": 54,
     "metadata": {},
     "output_type": "execute_result"
    }
   ],
   "source": [
    "li"
   ]
  },
  {
   "cell_type": "code",
   "execution_count": 55,
   "id": "d9404815-a963-427c-acff-efb5ce6be190",
   "metadata": {},
   "outputs": [
    {
     "data": {
      "text/plain": [
       "45"
      ]
     },
     "execution_count": 55,
     "metadata": {},
     "output_type": "execute_result"
    }
   ],
   "source": [
    "li.pop()"
   ]
  },
  {
   "cell_type": "code",
   "execution_count": 56,
   "id": "ced25026-08a9-44de-a936-0f9776e68282",
   "metadata": {},
   "outputs": [
    {
     "data": {
      "text/plain": [
       "[2, 'Kbs', [7, 7], [5, 6], 3]"
      ]
     },
     "execution_count": 56,
     "metadata": {},
     "output_type": "execute_result"
    }
   ],
   "source": [
    "li"
   ]
  },
  {
   "cell_type": "code",
   "execution_count": 57,
   "id": "823e7955-46d9-4341-bdd3-398a05b26568",
   "metadata": {},
   "outputs": [
    {
     "data": {
      "text/plain": [
       "[7, 7]"
      ]
     },
     "execution_count": 57,
     "metadata": {},
     "output_type": "execute_result"
    }
   ],
   "source": [
    "li.pop(2)"
   ]
  },
  {
   "cell_type": "code",
   "execution_count": 58,
   "id": "622e7cd5-0abf-407d-b150-93d26918b354",
   "metadata": {},
   "outputs": [
    {
     "data": {
      "text/plain": [
       "[2, 'Kbs', [5, 6], 3]"
      ]
     },
     "execution_count": 58,
     "metadata": {},
     "output_type": "execute_result"
    }
   ],
   "source": [
    "li"
   ]
  },
  {
   "cell_type": "code",
   "execution_count": 59,
   "id": "600b30a4-c326-4905-afb6-e2391de88091",
   "metadata": {},
   "outputs": [
    {
     "ename": "ValueError",
     "evalue": "list.remove(x): x not in list",
     "output_type": "error",
     "traceback": [
      "\u001b[0;31m---------------------------------------------------------------------------\u001b[0m",
      "\u001b[0;31mValueError\u001b[0m                                Traceback (most recent call last)",
      "Cell \u001b[0;32mIn[59], line 1\u001b[0m\n\u001b[0;32m----> 1\u001b[0m \u001b[43mli\u001b[49m\u001b[38;5;241;43m.\u001b[39;49m\u001b[43mremove\u001b[49m\u001b[43m(\u001b[49m\u001b[38;5;241;43m6\u001b[39;49m\u001b[43m)\u001b[49m\n",
      "\u001b[0;31mValueError\u001b[0m: list.remove(x): x not in list"
     ]
    }
   ],
   "source": [
    "li.remove(6)"
   ]
  },
  {
   "cell_type": "code",
   "execution_count": 60,
   "id": "ad642ad7-cc31-4a36-bdea-13f6681bde49",
   "metadata": {},
   "outputs": [
    {
     "ename": "TypeError",
     "evalue": "'NoneType' object is not callable",
     "output_type": "error",
     "traceback": [
      "\u001b[0;31m---------------------------------------------------------------------------\u001b[0m",
      "\u001b[0;31mTypeError\u001b[0m                                 Traceback (most recent call last)",
      "Cell \u001b[0;32mIn[60], line 1\u001b[0m\n\u001b[0;32m----> 1\u001b[0m \u001b[43mli\u001b[49m\u001b[38;5;241;43m.\u001b[39;49m\u001b[43mremove\u001b[49m\u001b[43m(\u001b[49m\u001b[38;5;241;43m2\u001b[39;49m\u001b[43m)\u001b[49m\u001b[43m(\u001b[49m\u001b[38;5;241;43m6\u001b[39;49m\u001b[43m)\u001b[49m\n",
      "\u001b[0;31mTypeError\u001b[0m: 'NoneType' object is not callable"
     ]
    }
   ],
   "source": [
    "li.remove(2)(6)"
   ]
  },
  {
   "cell_type": "code",
   "execution_count": 61,
   "id": "b351798a-60aa-4517-8c49-f6b9f84a9d85",
   "metadata": {},
   "outputs": [
    {
     "data": {
      "text/plain": [
       "['Kbs', [5, 6], 3]"
      ]
     },
     "execution_count": 61,
     "metadata": {},
     "output_type": "execute_result"
    }
   ],
   "source": [
    "li"
   ]
  },
  {
   "cell_type": "code",
   "execution_count": 62,
   "id": "add5e4e8-8b74-4c52-9d3c-e0c57c7e433a",
   "metadata": {},
   "outputs": [],
   "source": [
    "li.append(3)"
   ]
  },
  {
   "cell_type": "code",
   "execution_count": 63,
   "id": "9e4cb301-489b-43fe-a060-20a5324638ba",
   "metadata": {},
   "outputs": [
    {
     "data": {
      "text/plain": [
       "['Kbs', [5, 6], 3, 3]"
      ]
     },
     "execution_count": 63,
     "metadata": {},
     "output_type": "execute_result"
    }
   ],
   "source": [
    "li"
   ]
  },
  {
   "cell_type": "code",
   "execution_count": 64,
   "id": "13b6d1a5-c7fb-418c-8cb5-c4b08ff89fbf",
   "metadata": {},
   "outputs": [],
   "source": [
    "li[1].remove(6)"
   ]
  },
  {
   "cell_type": "code",
   "execution_count": 65,
   "id": "a96955ac-90e9-4ae6-8713-cd39de9968fe",
   "metadata": {},
   "outputs": [
    {
     "data": {
      "text/plain": [
       "['Kbs', [5], 3, 3]"
      ]
     },
     "execution_count": 65,
     "metadata": {},
     "output_type": "execute_result"
    }
   ],
   "source": [
    "li"
   ]
  },
  {
   "cell_type": "code",
   "execution_count": 66,
   "id": "ae0b6d97-e3b2-41a6-a629-108515a92c06",
   "metadata": {},
   "outputs": [],
   "source": [
    "li.append(3)"
   ]
  },
  {
   "cell_type": "code",
   "execution_count": 67,
   "id": "d79c5b3d-902a-4d7d-a9ef-cbc68a0ad4d4",
   "metadata": {},
   "outputs": [
    {
     "data": {
      "text/plain": [
       "['Kbs', [5], 3, 3, 3]"
      ]
     },
     "execution_count": 67,
     "metadata": {},
     "output_type": "execute_result"
    }
   ],
   "source": [
    "li"
   ]
  },
  {
   "cell_type": "code",
   "execution_count": 68,
   "id": "0cdc5b1e-406c-4c8a-9365-423db36408e0",
   "metadata": {},
   "outputs": [],
   "source": [
    "li.remove(3)"
   ]
  },
  {
   "cell_type": "code",
   "execution_count": 69,
   "id": "15cc40ed-15e8-4694-9c53-39744f5deb69",
   "metadata": {},
   "outputs": [
    {
     "data": {
      "text/plain": [
       "['Kbs', [5], 3, 3]"
      ]
     },
     "execution_count": 69,
     "metadata": {},
     "output_type": "execute_result"
    }
   ],
   "source": [
    "li"
   ]
  },
  {
   "cell_type": "code",
   "execution_count": 70,
   "id": "e3528ea5-e2d1-4fbc-9983-8a7d50446614",
   "metadata": {},
   "outputs": [],
   "source": [
    "li.reverse()"
   ]
  },
  {
   "cell_type": "code",
   "execution_count": 71,
   "id": "1adc152f-77b6-4aad-8677-6d2e323a95a4",
   "metadata": {},
   "outputs": [
    {
     "data": {
      "text/plain": [
       "[3, 3, [5], 'Kbs']"
      ]
     },
     "execution_count": 71,
     "metadata": {},
     "output_type": "execute_result"
    }
   ],
   "source": [
    "li"
   ]
  },
  {
   "cell_type": "code",
   "execution_count": 72,
   "id": "f728a8ad-597f-44db-9368-4c566a760153",
   "metadata": {},
   "outputs": [
    {
     "data": {
      "text/plain": [
       "['Kbs', [5], 3, 3]"
      ]
     },
     "execution_count": 72,
     "metadata": {},
     "output_type": "execute_result"
    }
   ],
   "source": [
    "li[::-1]"
   ]
  },
  {
   "cell_type": "code",
   "execution_count": 73,
   "id": "e99c277a-d262-4db6-8aae-aa1032f31ce9",
   "metadata": {},
   "outputs": [],
   "source": [
    "li = li[::-1]"
   ]
  },
  {
   "cell_type": "code",
   "execution_count": 74,
   "id": "e5d65f71-2b97-441e-96fa-988ca9f68201",
   "metadata": {},
   "outputs": [
    {
     "data": {
      "text/plain": [
       "['Kbs', [5], 3, 3]"
      ]
     },
     "execution_count": 74,
     "metadata": {},
     "output_type": "execute_result"
    }
   ],
   "source": [
    "li"
   ]
  },
  {
   "cell_type": "code",
   "execution_count": 75,
   "id": "ae8264c7-3a9b-4a9e-86f5-f9c405d83966",
   "metadata": {},
   "outputs": [
    {
     "ename": "TypeError",
     "evalue": "'<' not supported between instances of 'list' and 'str'",
     "output_type": "error",
     "traceback": [
      "\u001b[0;31m---------------------------------------------------------------------------\u001b[0m",
      "\u001b[0;31mTypeError\u001b[0m                                 Traceback (most recent call last)",
      "Cell \u001b[0;32mIn[75], line 1\u001b[0m\n\u001b[0;32m----> 1\u001b[0m \u001b[43mli\u001b[49m\u001b[38;5;241;43m.\u001b[39;49m\u001b[43msort\u001b[49m\u001b[43m(\u001b[49m\u001b[43m)\u001b[49m\n",
      "\u001b[0;31mTypeError\u001b[0m: '<' not supported between instances of 'list' and 'str'"
     ]
    }
   ],
   "source": [
    "li.sort()"
   ]
  },
  {
   "cell_type": "code",
   "execution_count": 76,
   "id": "d10ff6fa-5d32-4185-ab93-ea37211f978a",
   "metadata": {},
   "outputs": [],
   "source": [
    "l2 = [2,3,4,5,8,1,9,4]"
   ]
  },
  {
   "cell_type": "code",
   "execution_count": 77,
   "id": "f8c0d015-8902-4105-8ac3-9aa4a682da5f",
   "metadata": {},
   "outputs": [
    {
     "data": {
      "text/plain": [
       "[2, 3, 4, 5, 8, 1, 9, 4]"
      ]
     },
     "execution_count": 77,
     "metadata": {},
     "output_type": "execute_result"
    }
   ],
   "source": [
    "l2"
   ]
  },
  {
   "cell_type": "code",
   "execution_count": 78,
   "id": "de646e4a-1217-423b-ae61-6363d90886b7",
   "metadata": {},
   "outputs": [],
   "source": [
    "l2.sort()"
   ]
  },
  {
   "cell_type": "code",
   "execution_count": 79,
   "id": "2f52c37f-c1f5-4a8c-a491-654d5654c4a9",
   "metadata": {},
   "outputs": [
    {
     "data": {
      "text/plain": [
       "['Kbs', [5], 3, 3]"
      ]
     },
     "execution_count": 79,
     "metadata": {},
     "output_type": "execute_result"
    }
   ],
   "source": [
    "li"
   ]
  },
  {
   "cell_type": "code",
   "execution_count": 80,
   "id": "700ead87-ded6-406a-ab59-7a2640f0b74c",
   "metadata": {},
   "outputs": [
    {
     "data": {
      "text/plain": [
       "[1, 2, 3, 4, 4, 5, 8, 9]"
      ]
     },
     "execution_count": 80,
     "metadata": {},
     "output_type": "execute_result"
    }
   ],
   "source": [
    "l2"
   ]
  },
  {
   "cell_type": "code",
   "execution_count": 81,
   "id": "aa28289b-7bdd-4313-adc6-69fa075cfb6e",
   "metadata": {},
   "outputs": [],
   "source": [
    "l3 = [34,'kbbs',45,12,'kumar']"
   ]
  },
  {
   "cell_type": "code",
   "execution_count": 82,
   "id": "f5271af8-1630-4cf9-8d73-655a02f24dac",
   "metadata": {},
   "outputs": [
    {
     "ename": "TypeError",
     "evalue": "'<' not supported between instances of 'str' and 'int'",
     "output_type": "error",
     "traceback": [
      "\u001b[0;31m---------------------------------------------------------------------------\u001b[0m",
      "\u001b[0;31mTypeError\u001b[0m                                 Traceback (most recent call last)",
      "Cell \u001b[0;32mIn[82], line 1\u001b[0m\n\u001b[0;32m----> 1\u001b[0m \u001b[43ml3\u001b[49m\u001b[38;5;241;43m.\u001b[39;49m\u001b[43msort\u001b[49m\u001b[43m(\u001b[49m\u001b[43m)\u001b[49m\n",
      "\u001b[0;31mTypeError\u001b[0m: '<' not supported between instances of 'str' and 'int'"
     ]
    }
   ],
   "source": [
    "l3.sort()"
   ]
  },
  {
   "cell_type": "code",
   "execution_count": 83,
   "id": "2c6f83ad-cabb-4a71-8fc8-3551889175f8",
   "metadata": {},
   "outputs": [],
   "source": [
    "l4 = ['kbs','fjej','kumar']"
   ]
  },
  {
   "cell_type": "code",
   "execution_count": 84,
   "id": "64ae8638-9f7d-4104-84d0-ac88f6fe78f7",
   "metadata": {},
   "outputs": [],
   "source": [
    "l4.sort()"
   ]
  },
  {
   "cell_type": "code",
   "execution_count": 85,
   "id": "5bb6ca6d-18f8-4d9c-82e6-cbb80ae70940",
   "metadata": {},
   "outputs": [
    {
     "data": {
      "text/plain": [
       "['fjej', 'kbs', 'kumar']"
      ]
     },
     "execution_count": 85,
     "metadata": {},
     "output_type": "execute_result"
    }
   ],
   "source": [
    "l4"
   ]
  },
  {
   "cell_type": "code",
   "execution_count": 86,
   "id": "cf7adcad-5075-4351-81b6-28211438a3d5",
   "metadata": {},
   "outputs": [],
   "source": [
    "l4.sort(reverse = True)"
   ]
  },
  {
   "cell_type": "code",
   "execution_count": 87,
   "id": "e2b0cfb4-e047-4d34-9842-1492fc836a6b",
   "metadata": {},
   "outputs": [
    {
     "data": {
      "text/plain": [
       "['kumar', 'kbs', 'fjej']"
      ]
     },
     "execution_count": 87,
     "metadata": {},
     "output_type": "execute_result"
    }
   ],
   "source": [
    "l4"
   ]
  },
  {
   "cell_type": "code",
   "execution_count": 88,
   "id": "61447eaf-a15c-43ec-b16f-9d5c3582af14",
   "metadata": {},
   "outputs": [
    {
     "data": {
      "text/plain": [
       "0"
      ]
     },
     "execution_count": 88,
     "metadata": {},
     "output_type": "execute_result"
    }
   ],
   "source": [
    "l4.index(\"kumar\")"
   ]
  },
  {
   "cell_type": "code",
   "execution_count": 89,
   "id": "152058db-2777-4f01-a288-b6816751b8ca",
   "metadata": {},
   "outputs": [
    {
     "data": {
      "text/plain": [
       "1"
      ]
     },
     "execution_count": 89,
     "metadata": {},
     "output_type": "execute_result"
    }
   ],
   "source": [
    "l4.index(\"kbs\")"
   ]
  },
  {
   "cell_type": "code",
   "execution_count": 90,
   "id": "f6df2f10-712d-4e80-8795-d74404e269a2",
   "metadata": {},
   "outputs": [
    {
     "data": {
      "text/plain": [
       "1"
      ]
     },
     "execution_count": 90,
     "metadata": {},
     "output_type": "execute_result"
    }
   ],
   "source": [
    "l4.count(\"kbs\")"
   ]
  },
  {
   "cell_type": "code",
   "execution_count": 91,
   "id": "feab4c16-a6c1-4dcb-9025-6eab7e1827ba",
   "metadata": {},
   "outputs": [],
   "source": [
    "l4.append(\"kbs\")"
   ]
  },
  {
   "cell_type": "code",
   "execution_count": 92,
   "id": "fb6585da-f1b3-422a-b7ae-8ad358c14d72",
   "metadata": {},
   "outputs": [
    {
     "data": {
      "text/plain": [
       "['kumar', 'kbs', 'fjej', 'kbs']"
      ]
     },
     "execution_count": 92,
     "metadata": {},
     "output_type": "execute_result"
    }
   ],
   "source": [
    "l4"
   ]
  },
  {
   "cell_type": "code",
   "execution_count": 93,
   "id": "4ca38d5e-7817-4b69-a1bf-562b8c7c799e",
   "metadata": {},
   "outputs": [
    {
     "data": {
      "text/plain": [
       "2"
      ]
     },
     "execution_count": 93,
     "metadata": {},
     "output_type": "execute_result"
    }
   ],
   "source": [
    "l4.count(\"kbs\")"
   ]
  },
  {
   "cell_type": "code",
   "execution_count": 94,
   "id": "c6b75c5b-2232-4854-8c5b-11bbb7e5dadb",
   "metadata": {},
   "outputs": [],
   "source": [
    "s = \"kbs\""
   ]
  },
  {
   "cell_type": "code",
   "execution_count": 95,
   "id": "84a0628e-5a82-4f76-b575-c1bf269694d2",
   "metadata": {},
   "outputs": [],
   "source": [
    "l5 = [3,4,5]"
   ]
  },
  {
   "cell_type": "code",
   "execution_count": 96,
   "id": "f44c2a60-dc24-441d-9cab-bcf59a8c0db4",
   "metadata": {},
   "outputs": [
    {
     "data": {
      "text/plain": [
       "'k'"
      ]
     },
     "execution_count": 96,
     "metadata": {},
     "output_type": "execute_result"
    }
   ],
   "source": [
    "s[0]"
   ]
  },
  {
   "cell_type": "code",
   "execution_count": 97,
   "id": "286c5829-428d-41a6-bb14-88bfa963f15d",
   "metadata": {},
   "outputs": [
    {
     "ename": "TypeError",
     "evalue": "'str' object does not support item assignment",
     "output_type": "error",
     "traceback": [
      "\u001b[0;31m---------------------------------------------------------------------------\u001b[0m",
      "\u001b[0;31mTypeError\u001b[0m                                 Traceback (most recent call last)",
      "Cell \u001b[0;32mIn[97], line 1\u001b[0m\n\u001b[0;32m----> 1\u001b[0m \u001b[43ms\u001b[49m\u001b[43m[\u001b[49m\u001b[38;5;241;43m0\u001b[39;49m\u001b[43m]\u001b[49m \u001b[38;5;241m=\u001b[39m \u001b[38;5;124m'\u001b[39m\u001b[38;5;124ma\u001b[39m\u001b[38;5;124m'\u001b[39m\n",
      "\u001b[0;31mTypeError\u001b[0m: 'str' object does not support item assignment"
     ]
    }
   ],
   "source": [
    "s[0] = 'a'"
   ]
  },
  {
   "cell_type": "code",
   "execution_count": 98,
   "id": "da4a13ce-4a02-4202-80da-99ce969bd0a2",
   "metadata": {},
   "outputs": [
    {
     "data": {
      "text/plain": [
       "3"
      ]
     },
     "execution_count": 98,
     "metadata": {},
     "output_type": "execute_result"
    }
   ],
   "source": [
    "l5[0]"
   ]
  },
  {
   "cell_type": "code",
   "execution_count": 99,
   "id": "acee1368-8844-4163-86d8-a07190ca019f",
   "metadata": {},
   "outputs": [],
   "source": [
    "l5[0] = 30"
   ]
  },
  {
   "cell_type": "code",
   "execution_count": 100,
   "id": "eb7736c9-2b90-482d-bca5-dc80be2b30a9",
   "metadata": {},
   "outputs": [
    {
     "data": {
      "text/plain": [
       "[30, 4, 5]"
      ]
     },
     "execution_count": 100,
     "metadata": {},
     "output_type": "execute_result"
    }
   ],
   "source": [
    "l5"
   ]
  },
  {
   "cell_type": "code",
   "execution_count": 101,
   "id": "63916a49-c923-4bcf-ba23-42740cd3bb51",
   "metadata": {},
   "outputs": [
    {
     "data": {
      "text/plain": [
       "'abs'"
      ]
     },
     "execution_count": 101,
     "metadata": {},
     "output_type": "execute_result"
    }
   ],
   "source": [
    "s.replace('k','a')"
   ]
  },
  {
   "cell_type": "code",
   "execution_count": 102,
   "id": "0ee38af6-68db-4700-8267-4fad355cc27c",
   "metadata": {},
   "outputs": [
    {
     "data": {
      "text/plain": [
       "'kbs'"
      ]
     },
     "execution_count": 102,
     "metadata": {},
     "output_type": "execute_result"
    }
   ],
   "source": [
    "s"
   ]
  },
  {
   "cell_type": "code",
   "execution_count": 103,
   "id": "ec0ffa50-02d4-4ded-8019-65cf2f7dd76c",
   "metadata": {},
   "outputs": [
    {
     "data": {
      "text/plain": [
       "'kbs'"
      ]
     },
     "execution_count": 103,
     "metadata": {},
     "output_type": "execute_result"
    }
   ],
   "source": [
    "s"
   ]
  },
  {
   "cell_type": "code",
   "execution_count": 104,
   "id": "be37e007-ff36-49ab-9944-d7988858dac4",
   "metadata": {},
   "outputs": [],
   "source": [
    "t = (2,3,4,5,\"kbs\",45,46,45+457j,[2,3,4])"
   ]
  },
  {
   "cell_type": "code",
   "execution_count": 105,
   "id": "f067957e-568c-40d1-9f8e-4db6cef02645",
   "metadata": {},
   "outputs": [
    {
     "data": {
      "text/plain": [
       "(2, 3, 4, 5, 'kbs', 45, 46, (45+457j), [2, 3, 4])"
      ]
     },
     "execution_count": 105,
     "metadata": {},
     "output_type": "execute_result"
    }
   ],
   "source": [
    "t"
   ]
  },
  {
   "cell_type": "code",
   "execution_count": 106,
   "id": "bde426bb-2eae-4afe-8b69-d08319240376",
   "metadata": {},
   "outputs": [
    {
     "data": {
      "text/plain": [
       "tuple"
      ]
     },
     "execution_count": 106,
     "metadata": {},
     "output_type": "execute_result"
    }
   ],
   "source": [
    "type(t)"
   ]
  },
  {
   "cell_type": "code",
   "execution_count": 107,
   "id": "7c66a8fe-a3a3-4a42-83dc-320d00990988",
   "metadata": {},
   "outputs": [
    {
     "data": {
      "text/plain": [
       "9"
      ]
     },
     "execution_count": 107,
     "metadata": {},
     "output_type": "execute_result"
    }
   ],
   "source": [
    "len(t)"
   ]
  },
  {
   "cell_type": "code",
   "execution_count": 108,
   "id": "0c722519-7c3f-469c-91f1-2c989ef335de",
   "metadata": {},
   "outputs": [
    {
     "data": {
      "text/plain": [
       "2"
      ]
     },
     "execution_count": 108,
     "metadata": {},
     "output_type": "execute_result"
    }
   ],
   "source": [
    "t[0]"
   ]
  },
  {
   "cell_type": "code",
   "execution_count": 109,
   "id": "4ea8820c-c266-49e1-af04-8a5ed8312599",
   "metadata": {},
   "outputs": [
    {
     "data": {
      "text/plain": [
       "[2, 3, 4]"
      ]
     },
     "execution_count": 109,
     "metadata": {},
     "output_type": "execute_result"
    }
   ],
   "source": [
    "t[-1]"
   ]
  },
  {
   "cell_type": "code",
   "execution_count": 110,
   "id": "a4401ff5-d92f-425a-a78c-afeb6e304a79",
   "metadata": {},
   "outputs": [
    {
     "data": {
      "text/plain": [
       "([2, 3, 4], (45+457j), 46, 45, 'kbs', 5, 4, 3, 2)"
      ]
     },
     "execution_count": 110,
     "metadata": {},
     "output_type": "execute_result"
    }
   ],
   "source": [
    "t[::-1]"
   ]
  },
  {
   "cell_type": "code",
   "execution_count": 111,
   "id": "26fdd7f5-d42e-46ed-9b6d-82e8c452039b",
   "metadata": {},
   "outputs": [
    {
     "ename": "TypeError",
     "evalue": "'tuple' object does not support item assignment",
     "output_type": "error",
     "traceback": [
      "\u001b[0;31m---------------------------------------------------------------------------\u001b[0m",
      "\u001b[0;31mTypeError\u001b[0m                                 Traceback (most recent call last)",
      "Cell \u001b[0;32mIn[111], line 1\u001b[0m\n\u001b[0;32m----> 1\u001b[0m \u001b[43mt\u001b[49m\u001b[43m[\u001b[49m\u001b[38;5;241;43m0\u001b[39;49m\u001b[43m]\u001b[49m \u001b[38;5;241m=\u001b[39m \u001b[38;5;124m'\u001b[39m\u001b[38;5;124mkbs\u001b[39m\u001b[38;5;124m'\u001b[39m\n",
      "\u001b[0;31mTypeError\u001b[0m: 'tuple' object does not support item assignment"
     ]
    }
   ],
   "source": [
    "t[0] = 'kbs'"
   ]
  },
  {
   "cell_type": "code",
   "execution_count": 112,
   "id": "8dc950da-b1ef-4f44-8bb1-aa2efaded0e0",
   "metadata": {},
   "outputs": [
    {
     "data": {
      "text/plain": [
       "([2, 3, 4], (45+457j), 46, 45, 'kbs', 5, 4, 3, 2)"
      ]
     },
     "execution_count": 112,
     "metadata": {},
     "output_type": "execute_result"
    }
   ],
   "source": [
    "t[::-1]"
   ]
  },
  {
   "cell_type": "code",
   "execution_count": 113,
   "id": "e6ce4bff-865f-4b35-8b28-c9a283fe9735",
   "metadata": {},
   "outputs": [
    {
     "data": {
      "text/plain": [
       "1"
      ]
     },
     "execution_count": 113,
     "metadata": {},
     "output_type": "execute_result"
    }
   ],
   "source": [
    "t.count(5)"
   ]
  },
  {
   "cell_type": "code",
   "execution_count": 114,
   "id": "238f72d8-be46-42ed-b2ce-10827bd846b0",
   "metadata": {},
   "outputs": [
    {
     "data": {
      "text/plain": [
       "0"
      ]
     },
     "execution_count": 114,
     "metadata": {},
     "output_type": "execute_result"
    }
   ],
   "source": [
    "t.count(90)"
   ]
  },
  {
   "cell_type": "code",
   "execution_count": 115,
   "id": "0e2b5481-849e-42a2-bcb1-976446c742eb",
   "metadata": {},
   "outputs": [
    {
     "data": {
      "text/plain": [
       "6"
      ]
     },
     "execution_count": 115,
     "metadata": {},
     "output_type": "execute_result"
    }
   ],
   "source": [
    "t.index(46)"
   ]
  },
  {
   "cell_type": "code",
   "execution_count": 116,
   "id": "858ec888-6958-4c1e-9514-45a261790378",
   "metadata": {},
   "outputs": [
    {
     "data": {
      "text/plain": [
       "4"
      ]
     },
     "execution_count": 116,
     "metadata": {},
     "output_type": "execute_result"
    }
   ],
   "source": [
    "t.index('kbs')"
   ]
  },
  {
   "cell_type": "code",
   "execution_count": 117,
   "id": "d9d73291-4553-4881-89aa-a3842c0a2e7b",
   "metadata": {},
   "outputs": [],
   "source": [
    "s1 = {}"
   ]
  },
  {
   "cell_type": "code",
   "execution_count": 118,
   "id": "d1cff66e-f680-4253-b148-1f05d49187a3",
   "metadata": {},
   "outputs": [
    {
     "data": {
      "text/plain": [
       "dict"
      ]
     },
     "execution_count": 118,
     "metadata": {},
     "output_type": "execute_result"
    }
   ],
   "source": [
    "type(s1)"
   ]
  },
  {
   "cell_type": "code",
   "execution_count": 119,
   "id": "66cf6ff2-5bb1-4b76-b527-5b05684005f5",
   "metadata": {},
   "outputs": [],
   "source": [
    "s2 = {2,3,4,5}"
   ]
  },
  {
   "cell_type": "code",
   "execution_count": 120,
   "id": "0b45c804-1e0f-4823-adde-8cddd0013c5e",
   "metadata": {},
   "outputs": [
    {
     "data": {
      "text/plain": [
       "set"
      ]
     },
     "execution_count": 120,
     "metadata": {},
     "output_type": "execute_result"
    }
   ],
   "source": [
    "type(s2)"
   ]
  },
  {
   "cell_type": "code",
   "execution_count": 121,
   "id": "888d88e8-5da7-4fee-93e5-262443023ef6",
   "metadata": {},
   "outputs": [],
   "source": [
    "s3 = {2}"
   ]
  },
  {
   "cell_type": "code",
   "execution_count": 122,
   "id": "075c696b-c536-4580-bd9c-87c6046fbb02",
   "metadata": {},
   "outputs": [
    {
     "data": {
      "text/plain": [
       "set"
      ]
     },
     "execution_count": 122,
     "metadata": {},
     "output_type": "execute_result"
    }
   ],
   "source": [
    "type(s3)"
   ]
  },
  {
   "cell_type": "code",
   "execution_count": 123,
   "id": "f65728c9-3b92-4cb9-bad0-aa3bfeb71f26",
   "metadata": {},
   "outputs": [],
   "source": [
    "s4 = {342,444,4554,45+47j,34,'kbs'}"
   ]
  },
  {
   "cell_type": "code",
   "execution_count": 124,
   "id": "1d329471-c60f-46e5-8870-1d88f656910e",
   "metadata": {},
   "outputs": [
    {
     "data": {
      "text/plain": [
       "{(45+47j), 34, 342, 444, 4554, 'kbs'}"
      ]
     },
     "execution_count": 124,
     "metadata": {},
     "output_type": "execute_result"
    }
   ],
   "source": [
    "s4"
   ]
  },
  {
   "cell_type": "code",
   "execution_count": 125,
   "id": "193187d4-a0a4-4655-a651-df509534df2f",
   "metadata": {},
   "outputs": [],
   "source": [
    "s5 = {2,3,2,2,2,4,5,6,4,4,6,6,7,8,9,7,7,8}"
   ]
  },
  {
   "cell_type": "code",
   "execution_count": 126,
   "id": "591d6f63-ceba-44ca-bda8-cc66dff45539",
   "metadata": {},
   "outputs": [
    {
     "data": {
      "text/plain": [
       "{2, 3, 4, 5, 6, 7, 8, 9}"
      ]
     },
     "execution_count": 126,
     "metadata": {},
     "output_type": "execute_result"
    }
   ],
   "source": [
    "s5"
   ]
  },
  {
   "cell_type": "code",
   "execution_count": 127,
   "id": "e4ae3403-a7c2-4d6e-83c2-31aebfb5bb26",
   "metadata": {},
   "outputs": [],
   "source": [
    "s6 = set(s5)"
   ]
  },
  {
   "cell_type": "code",
   "execution_count": 128,
   "id": "9bb3b56f-76de-40b9-8496-3c91ba14b230",
   "metadata": {},
   "outputs": [
    {
     "data": {
      "text/plain": [
       "{2, 3, 4, 5, 6, 7, 8, 9}"
      ]
     },
     "execution_count": 128,
     "metadata": {},
     "output_type": "execute_result"
    }
   ],
   "source": [
    "s6"
   ]
  },
  {
   "cell_type": "code",
   "execution_count": 129,
   "id": "927d79c0-9c8d-4d17-b7ad-f627bf92e892",
   "metadata": {},
   "outputs": [
    {
     "data": {
      "text/plain": [
       "{2, 3, 4, 5, 6, 7, 8, 9}"
      ]
     },
     "execution_count": 129,
     "metadata": {},
     "output_type": "execute_result"
    }
   ],
   "source": [
    "s5"
   ]
  },
  {
   "cell_type": "code",
   "execution_count": 130,
   "id": "82f6dd5d-d314-45c4-a39a-05384ca683ce",
   "metadata": {},
   "outputs": [],
   "source": [
    "s7 = {2,3,2,2,2,4,5,6,4,4,6,6,7,8,9,7,7,8,'Kbs','kbs'}"
   ]
  },
  {
   "cell_type": "code",
   "execution_count": 131,
   "id": "276817a2-7eec-4567-b657-d0036b17c2d1",
   "metadata": {},
   "outputs": [
    {
     "data": {
      "text/plain": [
       "{2, 3, 4, 5, 6, 7, 8, 9, 'Kbs', 'kbs'}"
      ]
     },
     "execution_count": 131,
     "metadata": {},
     "output_type": "execute_result"
    }
   ],
   "source": [
    "s7"
   ]
  },
  {
   "cell_type": "code",
   "execution_count": 132,
   "id": "7853370c-4c13-4f91-a81c-27e91d49b77c",
   "metadata": {},
   "outputs": [],
   "source": [
    "l6 = [2,3,2,2,2,4,5,6,4,4,6,6,7,8,9,7,7,8,'Kbs','kbs']"
   ]
  },
  {
   "cell_type": "code",
   "execution_count": 133,
   "id": "4ba2617f-3f8d-4e13-864f-830024715ab8",
   "metadata": {},
   "outputs": [
    {
     "data": {
      "text/plain": [
       "{2, 3, 4, 5, 6, 7, 8, 9, 'Kbs', 'kbs'}"
      ]
     },
     "execution_count": 133,
     "metadata": {},
     "output_type": "execute_result"
    }
   ],
   "source": [
    "set(l6)"
   ]
  },
  {
   "cell_type": "code",
   "execution_count": 134,
   "id": "cd601719-a177-4b40-b873-67ba1fe439bf",
   "metadata": {},
   "outputs": [],
   "source": [
    "s8 = {234,45,23,12,567,2,789,234,\"kbs\",\"Kbs\"}"
   ]
  },
  {
   "cell_type": "code",
   "execution_count": 135,
   "id": "98c0d9f0-bbe8-4ef8-b2b2-fae00811e1da",
   "metadata": {},
   "outputs": [
    {
     "data": {
      "text/plain": [
       "{12, 2, 23, 234, 45, 567, 789, 'Kbs', 'kbs'}"
      ]
     },
     "execution_count": 135,
     "metadata": {},
     "output_type": "execute_result"
    }
   ],
   "source": [
    "s8"
   ]
  },
  {
   "cell_type": "code",
   "execution_count": 136,
   "id": "1545735d-83ea-453c-bac7-edffd947363b",
   "metadata": {},
   "outputs": [
    {
     "ename": "TypeError",
     "evalue": "'set' object is not subscriptable",
     "output_type": "error",
     "traceback": [
      "\u001b[0;31m---------------------------------------------------------------------------\u001b[0m",
      "\u001b[0;31mTypeError\u001b[0m                                 Traceback (most recent call last)",
      "Cell \u001b[0;32mIn[136], line 1\u001b[0m\n\u001b[0;32m----> 1\u001b[0m \u001b[43ms8\u001b[49m\u001b[43m[\u001b[49m\u001b[38;5;241;43m0\u001b[39;49m\u001b[43m]\u001b[49m\n",
      "\u001b[0;31mTypeError\u001b[0m: 'set' object is not subscriptable"
     ]
    }
   ],
   "source": [
    "s8[0]"
   ]
  },
  {
   "cell_type": "code",
   "execution_count": 137,
   "id": "a2399c8a-8aac-4614-ae66-6dc4af5f7910",
   "metadata": {},
   "outputs": [
    {
     "ename": "TypeError",
     "evalue": "'set' object is not subscriptable",
     "output_type": "error",
     "traceback": [
      "\u001b[0;31m---------------------------------------------------------------------------\u001b[0m",
      "\u001b[0;31mTypeError\u001b[0m                                 Traceback (most recent call last)",
      "Cell \u001b[0;32mIn[137], line 1\u001b[0m\n\u001b[0;32m----> 1\u001b[0m \u001b[43ms8\u001b[49m\u001b[43m[\u001b[49m\u001b[43m:\u001b[49m\u001b[43m:\u001b[49m\u001b[38;5;241;43m-\u001b[39;49m\u001b[38;5;241;43m1\u001b[39;49m\u001b[43m]\u001b[49m\n",
      "\u001b[0;31mTypeError\u001b[0m: 'set' object is not subscriptable"
     ]
    }
   ],
   "source": [
    "s8[::-1]"
   ]
  },
  {
   "cell_type": "code",
   "execution_count": 138,
   "id": "de7ff0f9-894e-4e84-bd56-00f7adaecb9e",
   "metadata": {},
   "outputs": [],
   "source": [
    "s8.add(4)"
   ]
  },
  {
   "cell_type": "code",
   "execution_count": 139,
   "id": "691e7497-56d3-409b-9291-1f03d5d08354",
   "metadata": {},
   "outputs": [
    {
     "data": {
      "text/plain": [
       "{12, 2, 23, 234, 4, 45, 567, 789, 'Kbs', 'kbs'}"
      ]
     },
     "execution_count": 139,
     "metadata": {},
     "output_type": "execute_result"
    }
   ],
   "source": [
    "s8"
   ]
  },
  {
   "cell_type": "code",
   "execution_count": 140,
   "id": "43fa514c-788d-444f-88c1-b7df9207187a",
   "metadata": {},
   "outputs": [],
   "source": [
    "s8.remove(12)"
   ]
  },
  {
   "cell_type": "code",
   "execution_count": 141,
   "id": "8ec57f74-2398-4739-bab9-6717ec0a975a",
   "metadata": {},
   "outputs": [
    {
     "data": {
      "text/plain": [
       "{2, 23, 234, 4, 45, 567, 789, 'Kbs', 'kbs'}"
      ]
     },
     "execution_count": 141,
     "metadata": {},
     "output_type": "execute_result"
    }
   ],
   "source": [
    "s8"
   ]
  },
  {
   "cell_type": "code",
   "execution_count": 142,
   "id": "9b46104a-a741-4df6-88e5-22381d8ffcbe",
   "metadata": {},
   "outputs": [],
   "source": [
    "num1 = 23"
   ]
  },
  {
   "cell_type": "code",
   "execution_count": 143,
   "id": "f207934c-da62-422a-8275-5c0f4e1213cb",
   "metadata": {},
   "outputs": [],
   "source": [
    "num2 = 44"
   ]
  },
  {
   "cell_type": "code",
   "execution_count": 144,
   "id": "99ce5775-1a4d-4608-b172-9236f06ffc5d",
   "metadata": {},
   "outputs": [],
   "source": [
    "num2 = 2+3j"
   ]
  },
  {
   "cell_type": "code",
   "execution_count": 145,
   "id": "d5894881-9744-402c-b5e0-d1f66e5c6405",
   "metadata": {},
   "outputs": [],
   "source": [
    "num1 = num2.imag"
   ]
  },
  {
   "cell_type": "code",
   "execution_count": 146,
   "id": "dcd5e7e5-d42c-48df-b68d-ecc06ff98434",
   "metadata": {},
   "outputs": [
    {
     "data": {
      "text/plain": [
       "(-1+3j)"
      ]
     },
     "execution_count": 146,
     "metadata": {},
     "output_type": "execute_result"
    }
   ],
   "source": [
    "num2-num1"
   ]
  },
  {
   "cell_type": "code",
   "execution_count": 147,
   "id": "afed951f-244f-4b2b-8713-78b468e6fcdb",
   "metadata": {},
   "outputs": [
    {
     "data": {
      "text/plain": [
       "True"
      ]
     },
     "execution_count": 147,
     "metadata": {},
     "output_type": "execute_result"
    }
   ],
   "source": [
    "'pwskills'.upper().lower().isalnum()"
   ]
  },
  {
   "cell_type": "code",
   "execution_count": 148,
   "id": "09af4592-729e-4f38-be96-39b176084e23",
   "metadata": {},
   "outputs": [
    {
     "data": {
      "text/plain": [
       "'dmjvhefklrf\\nkijfijrf'"
      ]
     },
     "execution_count": 148,
     "metadata": {},
     "output_type": "execute_result"
    }
   ],
   "source": [
    "'''dmjvhefklrf\n",
    "kijfijrf'''"
   ]
  }
 ],
 "metadata": {
  "kernelspec": {
   "display_name": "Python 3 (ipykernel)",
   "language": "python",
   "name": "python3"
  },
  "language_info": {
   "codemirror_mode": {
    "name": "ipython",
    "version": 3
   },
   "file_extension": ".py",
   "mimetype": "text/x-python",
   "name": "python",
   "nbconvert_exporter": "python",
   "pygments_lexer": "ipython3",
   "version": "3.10.8"
  }
 },
 "nbformat": 4,
 "nbformat_minor": 5
}
