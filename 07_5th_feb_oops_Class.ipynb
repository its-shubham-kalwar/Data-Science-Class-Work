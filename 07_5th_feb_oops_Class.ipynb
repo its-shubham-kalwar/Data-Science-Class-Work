{
 "cells": [
  {
   "cell_type": "code",
   "execution_count": 1,
   "id": "9802fe8e-c698-4d86-a0f0-e76d4f551932",
   "metadata": {},
   "outputs": [],
   "source": [
    "# oops Class"
   ]
  },
  {
   "cell_type": "code",
   "execution_count": 2,
   "id": "3079732a-96ed-4475-995e-37572ea277d4",
   "metadata": {},
   "outputs": [],
   "source": [
    "a = 1"
   ]
  },
  {
   "cell_type": "code",
   "execution_count": 3,
   "id": "b067412a-7338-4723-afac-c7edf940c594",
   "metadata": {},
   "outputs": [
    {
     "name": "stdout",
     "output_type": "stream",
     "text": [
      "<class 'int'>\n"
     ]
    }
   ],
   "source": [
    "print(type(a))"
   ]
  },
  {
   "cell_type": "code",
   "execution_count": 4,
   "id": "3a04fba5-88dd-4834-b203-0976b76412ee",
   "metadata": {},
   "outputs": [
    {
     "name": "stdout",
     "output_type": "stream",
     "text": [
      "<class 'str'>\n"
     ]
    }
   ],
   "source": [
    "print(type(\"pwskills\"))"
   ]
  },
  {
   "cell_type": "code",
   "execution_count": 5,
   "id": "5299a759-c689-43b8-b036-6f00f1afc719",
   "metadata": {},
   "outputs": [],
   "source": [
    "class test :\n",
    "    pass"
   ]
  },
  {
   "cell_type": "code",
   "execution_count": 6,
   "id": "ee339d46-5c41-4a01-9327-3bc200529518",
   "metadata": {},
   "outputs": [],
   "source": [
    "a = test()"
   ]
  },
  {
   "cell_type": "code",
   "execution_count": 7,
   "id": "b87259e0-e3fe-4ae0-931e-89994fa5d456",
   "metadata": {},
   "outputs": [
    {
     "data": {
      "text/plain": [
       "__main__.test"
      ]
     },
     "execution_count": 7,
     "metadata": {},
     "output_type": "execute_result"
    }
   ],
   "source": [
    "type(a)"
   ]
  },
  {
   "cell_type": "code",
   "execution_count": 8,
   "id": "6e1aba80-9680-43d9-85f8-b50bff1fc9c9",
   "metadata": {},
   "outputs": [
    {
     "name": "stdout",
     "output_type": "stream",
     "text": [
      "<class '__main__.test'>\n"
     ]
    }
   ],
   "source": [
    "print(type(a))"
   ]
  },
  {
   "cell_type": "code",
   "execution_count": 14,
   "id": "fd222411-be35-464c-9b5c-7c8829411d11",
   "metadata": {},
   "outputs": [],
   "source": [
    "class pwskills :\n",
    "    def welcome_msg(self):\n",
    "        print(\"Welcome to pwskills\")"
   ]
  },
  {
   "cell_type": "code",
   "execution_count": 15,
   "id": "5971fb0f-66b5-4122-8cf3-81038aaeb1e6",
   "metadata": {},
   "outputs": [],
   "source": [
    "rohan = pwskills()"
   ]
  },
  {
   "cell_type": "code",
   "execution_count": 16,
   "id": "338f1c8c-ea39-49e4-8bda-2ec020a5fde8",
   "metadata": {},
   "outputs": [
    {
     "name": "stdout",
     "output_type": "stream",
     "text": [
      "<class '__main__.pwskills'>\n"
     ]
    }
   ],
   "source": [
    "print(type(rohan))"
   ]
  },
  {
   "cell_type": "code",
   "execution_count": 17,
   "id": "82e54665-654c-4d6c-8a99-5320ea4b566b",
   "metadata": {},
   "outputs": [
    {
     "name": "stdout",
     "output_type": "stream",
     "text": [
      "Welcome to pwskills\n"
     ]
    }
   ],
   "source": [
    "rohan.welcome_msg()"
   ]
  },
  {
   "cell_type": "code",
   "execution_count": 18,
   "id": "f658edb4-d9e6-464f-93c7-0777770e1bb9",
   "metadata": {},
   "outputs": [],
   "source": [
    "shubham = pwskills()"
   ]
  },
  {
   "cell_type": "code",
   "execution_count": 19,
   "id": "a90ec253-4acf-4ba8-8c0f-bb5b49e976f8",
   "metadata": {},
   "outputs": [
    {
     "name": "stdout",
     "output_type": "stream",
     "text": [
      "Welcome to pwskills\n"
     ]
    }
   ],
   "source": [
    "shubham.welcome_msg()"
   ]
  },
  {
   "cell_type": "code",
   "execution_count": 26,
   "id": "3aa08212-4c6c-45be-921f-eefd6cfebea8",
   "metadata": {},
   "outputs": [],
   "source": [
    "class pwskills1 :\n",
    "    def __init__(self , phone_number , email_id , student_id ):\n",
    "        self.phone_number = phone_number\n",
    "        self.email_id = email_id\n",
    "        self.student_id = student_id\n",
    "        \n",
    "    def return_student_details(self) :\n",
    "        return self.student_id ,self.phone_number ,self.email_id\n",
    "    "
   ]
  },
  {
   "cell_type": "code",
   "execution_count": 27,
   "id": "565e6ff8-9bd8-477b-9b73-235e903599b8",
   "metadata": {},
   "outputs": [
    {
     "ename": "TypeError",
     "evalue": "pwskills1.__init__() missing 3 required positional arguments: 'phone_number', 'email_id', and 'student_id'",
     "output_type": "error",
     "traceback": [
      "\u001b[0;31m---------------------------------------------------------------------------\u001b[0m",
      "\u001b[0;31mTypeError\u001b[0m                                 Traceback (most recent call last)",
      "Cell \u001b[0;32mIn[27], line 1\u001b[0m\n\u001b[0;32m----> 1\u001b[0m shubham \u001b[38;5;241m=\u001b[39m \u001b[43mpwskills1\u001b[49m\u001b[43m(\u001b[49m\u001b[43m)\u001b[49m\n",
      "\u001b[0;31mTypeError\u001b[0m: pwskills1.__init__() missing 3 required positional arguments: 'phone_number', 'email_id', and 'student_id'"
     ]
    }
   ],
   "source": [
    "shubham = pwskills1()"
   ]
  },
  {
   "cell_type": "code",
   "execution_count": 28,
   "id": "723304a1-0182-41f9-901f-500fb6983cc8",
   "metadata": {},
   "outputs": [],
   "source": [
    "shubham = pwskills1(1222324563 , \"sk@gmail.com\" , 101)"
   ]
  },
  {
   "cell_type": "code",
   "execution_count": 29,
   "id": "e3ed9a8c-dc3c-42b1-a67b-63678b9d32c0",
   "metadata": {},
   "outputs": [
    {
     "data": {
      "text/plain": [
       "(101, 1222324563, 'sk@gmail.com')"
      ]
     },
     "execution_count": 29,
     "metadata": {},
     "output_type": "execute_result"
    }
   ],
   "source": [
    "shubham.return_student_details()"
   ]
  },
  {
   "cell_type": "code",
   "execution_count": 37,
   "id": "4d5ae765-93e4-40e7-9261-5b77321c66e0",
   "metadata": {},
   "outputs": [
    {
     "data": {
      "text/plain": [
       "1222324563"
      ]
     },
     "execution_count": 37,
     "metadata": {},
     "output_type": "execute_result"
    }
   ],
   "source": [
    "shubham.phone_number"
   ]
  },
  {
   "cell_type": "code",
   "execution_count": 38,
   "id": "a7d2cc52-62b8-44f8-983f-df19461c920f",
   "metadata": {},
   "outputs": [
    {
     "data": {
      "text/plain": [
       "'sk@gmail.com'"
      ]
     },
     "execution_count": 38,
     "metadata": {},
     "output_type": "execute_result"
    }
   ],
   "source": [
    "shubham.email_id"
   ]
  },
  {
   "cell_type": "code",
   "execution_count": 30,
   "id": "693fa739-9be5-450e-a068-bcf7b54dcb5d",
   "metadata": {},
   "outputs": [],
   "source": [
    "gaurav = pwskills1(1324346, \"gk@gmail.com\" , 102) "
   ]
  },
  {
   "cell_type": "code",
   "execution_count": 31,
   "id": "954970c2-0044-4ce0-b2a2-7eaa46c66afc",
   "metadata": {},
   "outputs": [
    {
     "data": {
      "text/plain": [
       "(102, 1324346, 'gk@gmail.com')"
      ]
     },
     "execution_count": 31,
     "metadata": {},
     "output_type": "execute_result"
    }
   ],
   "source": [
    "gaurav.return_student_details()"
   ]
  },
  {
   "cell_type": "code",
   "execution_count": 49,
   "id": "ac4b3adc-055d-47b2-a959-bce4744864f2",
   "metadata": {},
   "outputs": [],
   "source": [
    "class pwskills2 :\n",
    "    def __init__(self , phone_number , email_id , student_id ):\n",
    "        self.phone_number1 = phone_number\n",
    "        self.email_id1 = email_id\n",
    "        self.student_id1 = student_id\n",
    "        \n",
    "    def return_student_details(self) :\n",
    "        return self.student_id1 ,self.phone_number1 ,self.email_id1"
   ]
  },
  {
   "cell_type": "code",
   "execution_count": 50,
   "id": "9e221bbc-820e-4b83-bfeb-6155dfb55108",
   "metadata": {},
   "outputs": [],
   "source": [
    "sudh = pwskills2(1324657, \"sudhk@gmail.com\" , 344)"
   ]
  },
  {
   "cell_type": "code",
   "execution_count": 51,
   "id": "de98bd55-8ed7-42e3-aef7-42ae85922479",
   "metadata": {},
   "outputs": [
    {
     "data": {
      "text/plain": [
       "'sudhk@gmail.com'"
      ]
     },
     "execution_count": 51,
     "metadata": {},
     "output_type": "execute_result"
    }
   ],
   "source": [
    "sudh.email_id1"
   ]
  },
  {
   "cell_type": "code",
   "execution_count": 52,
   "id": "cea739e0-50cd-4bfe-bd0a-747c8a6c514e",
   "metadata": {},
   "outputs": [
    {
     "data": {
      "text/plain": [
       "1324657"
      ]
     },
     "execution_count": 52,
     "metadata": {},
     "output_type": "execute_result"
    }
   ],
   "source": [
    "sudh.phone_number1"
   ]
  },
  {
   "cell_type": "code",
   "execution_count": 54,
   "id": "bb507cd7-b29f-49c7-8c52-a5ae03de5bc8",
   "metadata": {},
   "outputs": [
    {
     "data": {
      "text/plain": [
       "(344, 1324657, 'sudhk@gmail.com')"
      ]
     },
     "execution_count": 54,
     "metadata": {},
     "output_type": "execute_result"
    }
   ],
   "source": [
    "sudh.return_student_details()"
   ]
  },
  {
   "cell_type": "code",
   "execution_count": 57,
   "id": "b8cc556c-2050-4eb5-9f54-9f3d99d634c0",
   "metadata": {},
   "outputs": [],
   "source": [
    "class pwskills2 :\n",
    "    def __init__(sudh , phone_number , email_id , student_id ):\n",
    "        sudh.phone_number1 = phone_number\n",
    "        sudh.email_id1 = email_id\n",
    "        sudh.student_id1 = student_id\n",
    "        \n",
    "    def return_student_details(self) :\n",
    "        return sudh.student_id1 ,sudh.phone_number1 ,sudh.email_id1"
   ]
  },
  {
   "cell_type": "code",
   "execution_count": 58,
   "id": "61354505-dca3-4773-8d59-33bfc381aad1",
   "metadata": {},
   "outputs": [],
   "source": [
    "rohan = pwskills2(124465, \"rohan@gmail.com\" , 344)"
   ]
  },
  {
   "cell_type": "code",
   "execution_count": 60,
   "id": "f3e03ed2-c9fc-4db6-8f1d-0c441b99d80d",
   "metadata": {},
   "outputs": [
    {
     "data": {
      "text/plain": [
       "'rohan@gmail.com'"
      ]
     },
     "execution_count": 60,
     "metadata": {},
     "output_type": "execute_result"
    }
   ],
   "source": [
    "rohan.email_id1"
   ]
  },
  {
   "cell_type": "code",
   "execution_count": 61,
   "id": "bac004a2-e30a-4f27-a4dc-2273e68666c1",
   "metadata": {},
   "outputs": [
    {
     "data": {
      "text/plain": [
       "124465"
      ]
     },
     "execution_count": 61,
     "metadata": {},
     "output_type": "execute_result"
    }
   ],
   "source": [
    "rohan.phone_number1"
   ]
  },
  {
   "cell_type": "code",
   "execution_count": null,
   "id": "7855b9c4-f2d9-4571-b1f7-b4967bc9c0eb",
   "metadata": {},
   "outputs": [],
   "source": []
  }
 ],
 "metadata": {
  "kernelspec": {
   "display_name": "Python 3 (ipykernel)",
   "language": "python",
   "name": "python3"
  },
  "language_info": {
   "codemirror_mode": {
    "name": "ipython",
    "version": 3
   },
   "file_extension": ".py",
   "mimetype": "text/x-python",
   "name": "python",
   "nbconvert_exporter": "python",
   "pygments_lexer": "ipython3",
   "version": "3.10.8"
  }
 },
 "nbformat": 4,
 "nbformat_minor": 5
}
