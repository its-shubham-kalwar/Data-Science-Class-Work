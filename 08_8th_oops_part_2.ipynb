{
 "cells": [
  {
   "cell_type": "code",
   "execution_count": 1,
   "id": "997ed578-bcd8-491c-a80b-2a16ec2b5f8f",
   "metadata": {},
   "outputs": [],
   "source": [
    "# Oops --- Polymorphism --------"
   ]
  },
  {
   "cell_type": "code",
   "execution_count": 2,
   "id": "f11afee0-f82f-474d-a2f6-49c5e7fc6331",
   "metadata": {},
   "outputs": [],
   "source": [
    "def test(a , b):\n",
    "    return a+b"
   ]
  },
  {
   "cell_type": "code",
   "execution_count": 3,
   "id": "e6e9dd63-0ba2-4b85-90ba-4f5c2a5f23b2",
   "metadata": {},
   "outputs": [
    {
     "data": {
      "text/plain": [
       "7"
      ]
     },
     "execution_count": 3,
     "metadata": {},
     "output_type": "execute_result"
    }
   ],
   "source": [
    "test(3,4)"
   ]
  },
  {
   "cell_type": "code",
   "execution_count": 4,
   "id": "a29d33e3-4173-46d5-82f0-e9ab6ec4c761",
   "metadata": {},
   "outputs": [
    {
     "data": {
      "text/plain": [
       "'sudh kumar'"
      ]
     },
     "execution_count": 4,
     "metadata": {},
     "output_type": "execute_result"
    }
   ],
   "source": [
    "test(\"sudh \",\"kumar\")"
   ]
  },
  {
   "cell_type": "code",
   "execution_count": 5,
   "id": "218e7dc8-231a-466c-8f37-9f2364593de8",
   "metadata": {},
   "outputs": [
    {
     "data": {
      "text/plain": [
       "[1, 2, 3, 4, 5, 4, 5, 6, 7, 8]"
      ]
     },
     "execution_count": 5,
     "metadata": {},
     "output_type": "execute_result"
    }
   ],
   "source": [
    "test([1,2,3,4,5],[4,5,6,7,8])"
   ]
  },
  {
   "cell_type": "code",
   "execution_count": 6,
   "id": "ec51ee31-4e4c-4b80-bde4-76f0394cfe87",
   "metadata": {},
   "outputs": [],
   "source": [
    "class data_science:\n",
    "    def syllabus(self) :\n",
    "        print(\"this is my syllabus for data science\")"
   ]
  },
  {
   "cell_type": "code",
   "execution_count": 7,
   "id": "11ccfaa2-c0d5-4f6f-aeff-530a208742a2",
   "metadata": {},
   "outputs": [],
   "source": [
    "class web_dev:\n",
    "    def syllabus(self):\n",
    "        print(\"this is my syllabus for web dev\")"
   ]
  },
  {
   "cell_type": "code",
   "execution_count": 8,
   "id": "a1a4a1e1-caa1-438e-8c4a-239ca59605b2",
   "metadata": {},
   "outputs": [],
   "source": [
    "def class_parcer(class_obj):\n",
    "    for i in class_obj :\n",
    "        i.syllabus()"
   ]
  },
  {
   "cell_type": "code",
   "execution_count": 9,
   "id": "28212951-4307-45df-83cf-04ec94f8e917",
   "metadata": {},
   "outputs": [],
   "source": [
    "data_science = data_science()"
   ]
  },
  {
   "cell_type": "code",
   "execution_count": 10,
   "id": "967d5524-cb48-4884-9344-b08e5f76f47a",
   "metadata": {},
   "outputs": [],
   "source": [
    "web_dev = web_dev()"
   ]
  },
  {
   "cell_type": "code",
   "execution_count": 11,
   "id": "829e5295-ca3e-4822-b372-e8a6e33b371d",
   "metadata": {},
   "outputs": [],
   "source": [
    "class_obj = [data_science , web_dev]"
   ]
  },
  {
   "cell_type": "code",
   "execution_count": 12,
   "id": "b3efbdba-0705-4512-a787-4751eb0d6e8d",
   "metadata": {},
   "outputs": [
    {
     "name": "stdout",
     "output_type": "stream",
     "text": [
      "this is my syllabus for data science\n",
      "this is my syllabus for web dev\n"
     ]
    }
   ],
   "source": [
    "class_parcer(class_obj)"
   ]
  },
  {
   "cell_type": "code",
   "execution_count": 13,
   "id": "6ec906b8-6fcc-4604-a17c-cb5b3dea492f",
   "metadata": {},
   "outputs": [],
   "source": [
    "# Encapsulation -------------------"
   ]
  },
  {
   "cell_type": "code",
   "execution_count": 14,
   "id": "5e40e669-44dc-4d7f-bdf4-a60f6bd31d79",
   "metadata": {},
   "outputs": [],
   "source": [
    "# Encapsulation -------------------"
   ]
  },
  {
   "cell_type": "code",
   "execution_count": 15,
   "id": "2877b8fb-1394-451f-bf3f-bbbabe7295e8",
   "metadata": {},
   "outputs": [],
   "source": [
    "class test:\n",
    "    def __init__(self , a , b):\n",
    "        self.a = a\n",
    "        self.b = b"
   ]
  },
  {
   "cell_type": "code",
   "execution_count": 16,
   "id": "62bfe6eb-38cf-46b2-bce1-910314343959",
   "metadata": {},
   "outputs": [],
   "source": [
    "t = test(23,34)"
   ]
  },
  {
   "cell_type": "code",
   "execution_count": 17,
   "id": "67abf913-b344-41be-884a-6b92b3a3423f",
   "metadata": {},
   "outputs": [
    {
     "data": {
      "text/plain": [
       "23"
      ]
     },
     "execution_count": 17,
     "metadata": {},
     "output_type": "execute_result"
    }
   ],
   "source": [
    "t.a"
   ]
  },
  {
   "cell_type": "code",
   "execution_count": 18,
   "id": "fbb3342e-b4a4-4245-990a-2cd160bc5e9d",
   "metadata": {},
   "outputs": [
    {
     "data": {
      "text/plain": [
       "34"
      ]
     },
     "execution_count": 18,
     "metadata": {},
     "output_type": "execute_result"
    }
   ],
   "source": [
    "t.b"
   ]
  },
  {
   "cell_type": "code",
   "execution_count": 19,
   "id": "b87a9282-d79e-428c-8333-6147f0b95a90",
   "metadata": {},
   "outputs": [],
   "source": [
    "t.a  = 23455776"
   ]
  },
  {
   "cell_type": "code",
   "execution_count": 20,
   "id": "17fee9ed-a0f8-43c2-9d76-e405d3ba64f0",
   "metadata": {},
   "outputs": [
    {
     "data": {
      "text/plain": [
       "23455776"
      ]
     },
     "execution_count": 20,
     "metadata": {},
     "output_type": "execute_result"
    }
   ],
   "source": [
    "t.a"
   ]
  },
  {
   "cell_type": "code",
   "execution_count": 21,
   "id": "72bddb00-2d20-46bd-972c-fd04392f65eb",
   "metadata": {},
   "outputs": [],
   "source": [
    "class car:\n",
    "    def __init__(self , year , make , model , speed):\n",
    "        self.__year = year\n",
    "        self.__make = make\n",
    "        self.__model = model\n",
    "        self.__speed = 0\n",
    "        \n",
    "    def set_dpeed(self,speed):\n",
    "        self.__speed = 0 if speed < 0 else speed\n",
    "        \n",
    "    def get_speed(self):\n",
    "        return self.__speed"
   ]
  },
  {
   "cell_type": "code",
   "execution_count": 22,
   "id": "60c93da1-9b45-488d-a7bc-21e029619b5a",
   "metadata": {},
   "outputs": [],
   "source": [
    "c = car(2021 , 'toyata' , \"innova\" , 12)"
   ]
  },
  {
   "cell_type": "code",
   "execution_count": 23,
   "id": "3b441e7a-7068-4b5c-9216-f76d31741f74",
   "metadata": {},
   "outputs": [
    {
     "data": {
      "text/plain": [
       "2021"
      ]
     },
     "execution_count": 23,
     "metadata": {},
     "output_type": "execute_result"
    }
   ],
   "source": [
    "c._car__year"
   ]
  },
  {
   "cell_type": "code",
   "execution_count": 24,
   "id": "0bf2fcca-c4c4-49f4-8d5d-2524a9488315",
   "metadata": {},
   "outputs": [
    {
     "data": {
      "text/plain": [
       "'innova'"
      ]
     },
     "execution_count": 24,
     "metadata": {},
     "output_type": "execute_result"
    }
   ],
   "source": [
    "c._car__model"
   ]
  },
  {
   "cell_type": "code",
   "execution_count": 25,
   "id": "5b460d80-d46c-4eb0-9bd3-860449fd44c9",
   "metadata": {},
   "outputs": [
    {
     "data": {
      "text/plain": [
       "0"
      ]
     },
     "execution_count": 25,
     "metadata": {},
     "output_type": "execute_result"
    }
   ],
   "source": [
    "c.get_speed()"
   ]
  },
  {
   "cell_type": "code",
   "execution_count": 26,
   "id": "f130584a-adb3-44c4-932e-63b755c2e078",
   "metadata": {},
   "outputs": [],
   "source": [
    "c.set_dpeed(234)"
   ]
  },
  {
   "cell_type": "code",
   "execution_count": 27,
   "id": "b139a67f-046b-4e1f-80bf-0b1ecbea6da6",
   "metadata": {},
   "outputs": [
    {
     "data": {
      "text/plain": [
       "234"
      ]
     },
     "execution_count": 27,
     "metadata": {},
     "output_type": "execute_result"
    }
   ],
   "source": [
    "c.get_speed()"
   ]
  },
  {
   "cell_type": "code",
   "execution_count": 28,
   "id": "7f1589f0-2cdf-4ff7-9b80-f04f74efa5ef",
   "metadata": {},
   "outputs": [],
   "source": [
    "class bank_account :\n",
    "    def __init__(self , balance):\n",
    "        self.__balance = balance\n",
    "        \n",
    "        \n",
    "    def deposite(self , amount):\n",
    "        self.__balance = self.__balance + amount\n",
    "        \n",
    "    def withdraw(self , amount):\n",
    "        if self.__balance >= amount:\n",
    "            self.__balance = self.__balance- amount\n",
    "            return True\n",
    "        else:\n",
    "            return False\n",
    "        \n",
    "    def get_balance(self):\n",
    "        return self.__balance"
   ]
  },
  {
   "cell_type": "code",
   "execution_count": 29,
   "id": "ee6c92ee-41fb-497d-bc0c-44549683a416",
   "metadata": {},
   "outputs": [],
   "source": [
    "sudh = bank_account(1000)"
   ]
  },
  {
   "cell_type": "code",
   "execution_count": 30,
   "id": "613f5bdc-62f1-4697-b5b6-a8135ae28be2",
   "metadata": {},
   "outputs": [
    {
     "data": {
      "text/plain": [
       "1000"
      ]
     },
     "execution_count": 30,
     "metadata": {},
     "output_type": "execute_result"
    }
   ],
   "source": [
    "sudh.get_balance()"
   ]
  },
  {
   "cell_type": "code",
   "execution_count": 31,
   "id": "1958eb68-0a29-4b05-8bce-37c9d2939bd3",
   "metadata": {},
   "outputs": [],
   "source": [
    "sudh.deposite(5000)"
   ]
  },
  {
   "cell_type": "code",
   "execution_count": 32,
   "id": "002437f1-cb0b-4f49-ac5c-85f40a6d2a78",
   "metadata": {},
   "outputs": [
    {
     "data": {
      "text/plain": [
       "6000"
      ]
     },
     "execution_count": 32,
     "metadata": {},
     "output_type": "execute_result"
    }
   ],
   "source": [
    "sudh.get_balance()"
   ]
  },
  {
   "cell_type": "code",
   "execution_count": 33,
   "id": "58b61a82-0527-400e-8f1c-e79244a1f059",
   "metadata": {},
   "outputs": [],
   "source": [
    "sudh.deposite(1000)"
   ]
  },
  {
   "cell_type": "code",
   "execution_count": 34,
   "id": "58ba7ee9-584c-4fd1-ba3a-a46a2e235934",
   "metadata": {},
   "outputs": [
    {
     "data": {
      "text/plain": [
       "7000"
      ]
     },
     "execution_count": 34,
     "metadata": {},
     "output_type": "execute_result"
    }
   ],
   "source": [
    "sudh.get_balance()"
   ]
  },
  {
   "cell_type": "code",
   "execution_count": 35,
   "id": "25fa139b-d93d-43a4-b4d9-34725b62bbcd",
   "metadata": {},
   "outputs": [
    {
     "data": {
      "text/plain": [
       "False"
      ]
     },
     "execution_count": 35,
     "metadata": {},
     "output_type": "execute_result"
    }
   ],
   "source": [
    "sudh.withdraw(9000)"
   ]
  },
  {
   "cell_type": "code",
   "execution_count": 36,
   "id": "ca708f74-2d54-4870-bfff-0c7d2655974c",
   "metadata": {},
   "outputs": [
    {
     "data": {
      "text/plain": [
       "True"
      ]
     },
     "execution_count": 36,
     "metadata": {},
     "output_type": "execute_result"
    }
   ],
   "source": [
    "sudh.withdraw(2000)"
   ]
  },
  {
   "cell_type": "code",
   "execution_count": 37,
   "id": "fc7b28bb-92f4-48a5-8372-1b88649ce11e",
   "metadata": {},
   "outputs": [
    {
     "data": {
      "text/plain": [
       "5000"
      ]
     },
     "execution_count": 37,
     "metadata": {},
     "output_type": "execute_result"
    }
   ],
   "source": [
    "sudh.get_balance()"
   ]
  },
  {
   "cell_type": "code",
   "execution_count": 38,
   "id": "74df2687-8cdf-4271-a6b9-177befdcd512",
   "metadata": {},
   "outputs": [],
   "source": [
    "# inheritance in oops ------------"
   ]
  },
  {
   "cell_type": "code",
   "execution_count": 39,
   "id": "86338288-a15a-4afe-9b1c-ef16e33cf0e9",
   "metadata": {},
   "outputs": [],
   "source": [
    "# inheritance in oops --------------"
   ]
  },
  {
   "cell_type": "code",
   "execution_count": 40,
   "id": "1feb8860-2999-444c-b196-e1b9a2be3aa6",
   "metadata": {},
   "outputs": [],
   "source": [
    "class test:\n",
    "    def test_meth(self):\n",
    "        return \"this is my first class\""
   ]
  },
  {
   "cell_type": "code",
   "execution_count": 42,
   "id": "79907a54-9d40-4752-9be4-b4744158eefc",
   "metadata": {},
   "outputs": [],
   "source": [
    "class child_test(test):\n",
    "    pass"
   ]
  },
  {
   "cell_type": "code",
   "execution_count": 43,
   "id": "2a4c8128-aadb-4569-884c-372da8ea25e2",
   "metadata": {},
   "outputs": [],
   "source": [
    "child_test_obj = child_test()"
   ]
  },
  {
   "cell_type": "code",
   "execution_count": 44,
   "id": "9aafe304-915e-400a-bc1b-d161aa88524f",
   "metadata": {},
   "outputs": [
    {
     "data": {
      "text/plain": [
       "'this is my first class'"
      ]
     },
     "execution_count": 44,
     "metadata": {},
     "output_type": "execute_result"
    }
   ],
   "source": [
    "child_test_obj.test_meth()"
   ]
  },
  {
   "cell_type": "code",
   "execution_count": 45,
   "id": "ab0097fa-80b1-4fb5-9809-3b1f22dfbcd9",
   "metadata": {},
   "outputs": [],
   "source": [
    "class class1:\n",
    "    def test_class1(self):\n",
    "        return \"this is a meth from class1\""
   ]
  },
  {
   "cell_type": "code",
   "execution_count": 46,
   "id": "8ece6246-73ff-4138-ad8d-0af797ec5a53",
   "metadata": {},
   "outputs": [],
   "source": [
    "class class2(class1):\n",
    "    def test_class2(self):\n",
    "        return \"this s a method from class2\""
   ]
  },
  {
   "cell_type": "code",
   "execution_count": 48,
   "id": "a6657dfe-1209-49d3-9c80-f81767b3fd9a",
   "metadata": {},
   "outputs": [],
   "source": [
    "class class3(class2):\n",
    "    pass"
   ]
  },
  {
   "cell_type": "code",
   "execution_count": 49,
   "id": "ea1a451a-9c99-4133-b39d-5367f5b84fbd",
   "metadata": {},
   "outputs": [],
   "source": [
    "obj_class3 = class3()"
   ]
  },
  {
   "cell_type": "code",
   "execution_count": 50,
   "id": "b900a0f8-a899-418f-afcf-56ae06c4b7d2",
   "metadata": {},
   "outputs": [
    {
     "data": {
      "text/plain": [
       "'this is a meth from class1'"
      ]
     },
     "execution_count": 50,
     "metadata": {},
     "output_type": "execute_result"
    }
   ],
   "source": [
    "obj_class3.test_class1()"
   ]
  },
  {
   "cell_type": "code",
   "execution_count": 51,
   "id": "8383e09d-1246-49e5-aac0-c9e174d614d9",
   "metadata": {},
   "outputs": [
    {
     "data": {
      "text/plain": [
       "'this s a method from class2'"
      ]
     },
     "execution_count": 51,
     "metadata": {},
     "output_type": "execute_result"
    }
   ],
   "source": [
    "obj_class3.test_class2()"
   ]
  },
  {
   "cell_type": "code",
   "execution_count": 52,
   "id": "9429c548-5a2a-476d-843f-9ca90b8a3502",
   "metadata": {},
   "outputs": [],
   "source": [
    "# multiple inheritance --------------------"
   ]
  },
  {
   "cell_type": "code",
   "execution_count": 53,
   "id": "5aa6373e-aea1-4007-8e82-b3d6c75ea162",
   "metadata": {},
   "outputs": [],
   "source": [
    "class class1:\n",
    "    def test_class1(self):\n",
    "        return \"this is a class1\""
   ]
  },
  {
   "cell_type": "code",
   "execution_count": 54,
   "id": "8af67471-2523-44ce-bac1-c577485615f4",
   "metadata": {},
   "outputs": [],
   "source": [
    "class class2:\n",
    "    def test_class2(self):\n",
    "        return \"this is class2\""
   ]
  },
  {
   "cell_type": "code",
   "execution_count": 55,
   "id": "1d6b8fe0-a157-4da5-8fe1-deb187d8c0b4",
   "metadata": {},
   "outputs": [],
   "source": [
    "class class3(class1 , class2):\n",
    "    pass"
   ]
  },
  {
   "cell_type": "code",
   "execution_count": 57,
   "id": "9fb76266-c1cc-4781-958e-c2a2198c9e8f",
   "metadata": {},
   "outputs": [],
   "source": [
    "obj_class3 = class3()"
   ]
  },
  {
   "cell_type": "code",
   "execution_count": 58,
   "id": "6e0436d0-bf8f-4510-94e7-f48acc2fc09c",
   "metadata": {},
   "outputs": [
    {
     "data": {
      "text/plain": [
       "'this is a class1'"
      ]
     },
     "execution_count": 58,
     "metadata": {},
     "output_type": "execute_result"
    }
   ],
   "source": [
    "obj_class3.test_class1()"
   ]
  },
  {
   "cell_type": "code",
   "execution_count": 59,
   "id": "a0834c3e-6c84-4947-8292-e11f2720bed9",
   "metadata": {},
   "outputs": [
    {
     "data": {
      "text/plain": [
       "'this is class2'"
      ]
     },
     "execution_count": 59,
     "metadata": {},
     "output_type": "execute_result"
    }
   ],
   "source": [
    "obj_class3.test_class2()"
   ]
  },
  {
   "cell_type": "code",
   "execution_count": null,
   "id": "7d6880ac-6a4a-4522-b403-ba7264f5b91b",
   "metadata": {},
   "outputs": [],
   "source": []
  }
 ],
 "metadata": {
  "kernelspec": {
   "display_name": "Python 3 (ipykernel)",
   "language": "python",
   "name": "python3"
  },
  "language_info": {
   "codemirror_mode": {
    "name": "ipython",
    "version": 3
   },
   "file_extension": ".py",
   "mimetype": "text/x-python",
   "name": "python",
   "nbconvert_exporter": "python",
   "pygments_lexer": "ipython3",
   "version": "3.10.8"
  }
 },
 "nbformat": 4,
 "nbformat_minor": 5
}
