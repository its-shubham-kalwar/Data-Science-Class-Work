{
 "cells": [
  {
   "cell_type": "code",
   "execution_count": 43,
   "id": "51faed40-5952-4b97-a604-e325c94c94c9",
   "metadata": {},
   "outputs": [
    {
     "data": {
      "text/plain": [
       "range(0, 10)"
      ]
     },
     "execution_count": 43,
     "metadata": {},
     "output_type": "execute_result"
    }
   ],
   "source": [
    "range(10)"
   ]
  },
  {
   "cell_type": "code",
   "execution_count": 44,
   "id": "8ed43b6c-396d-44a3-93cb-50551483265d",
   "metadata": {},
   "outputs": [
    {
     "name": "stdout",
     "output_type": "stream",
     "text": [
      "0\n",
      "1\n",
      "2\n",
      "3\n",
      "4\n",
      "5\n",
      "6\n",
      "7\n",
      "8\n",
      "9\n"
     ]
    }
   ],
   "source": [
    "for i in range(10):\n",
    "    print(i)"
   ]
  },
  {
   "cell_type": "code",
   "execution_count": 45,
   "id": "0f59b5b2-41da-4c0e-acb7-cf4dd6887335",
   "metadata": {},
   "outputs": [],
   "source": [
    "def test_fib1(n):\n",
    "    a,b = 0,1\n",
    "    for i in range(n):\n",
    "        yield a\n",
    "        a,b = b,a+b"
   ]
  },
  {
   "cell_type": "code",
   "execution_count": 46,
   "id": "46a14813-704b-4514-b524-8d257f88a2a4",
   "metadata": {},
   "outputs": [
    {
     "data": {
      "text/plain": [
       "<generator object test_fib1 at 0x7f076de4a570>"
      ]
     },
     "execution_count": 46,
     "metadata": {},
     "output_type": "execute_result"
    }
   ],
   "source": [
    "test_fib1(10)"
   ]
  },
  {
   "cell_type": "code",
   "execution_count": 47,
   "id": "a0e18987-5e75-4940-bf91-968b0bdaabba",
   "metadata": {},
   "outputs": [
    {
     "name": "stdout",
     "output_type": "stream",
     "text": [
      "0\n",
      "1\n",
      "1\n",
      "2\n",
      "3\n",
      "5\n",
      "8\n",
      "13\n",
      "21\n",
      "34\n"
     ]
    }
   ],
   "source": [
    "for i in test_fib(10):\n",
    "    print(i)"
   ]
  },
  {
   "cell_type": "code",
   "execution_count": 48,
   "id": "60db8547-413b-4bf3-86a2-8f3e051c9417",
   "metadata": {},
   "outputs": [],
   "source": [
    "def test_fib1():\n",
    "    a,b = 0,1\n",
    "    while True:\n",
    "        yield a\n",
    "        a,b = b,a+b"
   ]
  },
  {
   "cell_type": "code",
   "execution_count": 49,
   "id": "5ec1b302-530f-4159-93b0-71b8ac3b124c",
   "metadata": {},
   "outputs": [],
   "source": [
    "fib = test_fib1()"
   ]
  },
  {
   "cell_type": "code",
   "execution_count": 50,
   "id": "2677fa82-4b4b-4680-bd3e-f13bb0ce7bae",
   "metadata": {},
   "outputs": [
    {
     "name": "stdout",
     "output_type": "stream",
     "text": [
      "0\n",
      "1\n",
      "1\n",
      "2\n",
      "3\n",
      "5\n",
      "8\n",
      "13\n",
      "21\n",
      "34\n"
     ]
    }
   ],
   "source": [
    "for i in range(10):\n",
    "    print(next(fib))"
   ]
  },
  {
   "cell_type": "code",
   "execution_count": 51,
   "id": "3962b10b-e076-4bf4-b491-c5dfb1944968",
   "metadata": {},
   "outputs": [],
   "source": [
    "s = \"sudh\""
   ]
  },
  {
   "cell_type": "code",
   "execution_count": 52,
   "id": "4bbc359b-be9b-4711-af72-d037fd6c20dc",
   "metadata": {},
   "outputs": [
    {
     "data": {
      "text/plain": [
       "'s'"
      ]
     },
     "execution_count": 52,
     "metadata": {},
     "output_type": "execute_result"
    }
   ],
   "source": [
    "s[0]"
   ]
  },
  {
   "cell_type": "code",
   "execution_count": 53,
   "id": "f0cc6faf-d8f6-403b-9b8d-d57cbf64211b",
   "metadata": {},
   "outputs": [
    {
     "name": "stdout",
     "output_type": "stream",
     "text": [
      "s\n",
      "u\n",
      "d\n",
      "h\n"
     ]
    }
   ],
   "source": [
    "for i in s:\n",
    "    print(i)"
   ]
  },
  {
   "cell_type": "code",
   "execution_count": 54,
   "id": "f8aec416-54ae-46e9-aa97-3417fbb8e114",
   "metadata": {},
   "outputs": [],
   "source": [
    "s1 = iter(s)"
   ]
  },
  {
   "cell_type": "code",
   "execution_count": 55,
   "id": "7ce667d9-909f-45e5-ae42-e8e9f6cc5eeb",
   "metadata": {},
   "outputs": [
    {
     "data": {
      "text/plain": [
       "'s'"
      ]
     },
     "execution_count": 55,
     "metadata": {},
     "output_type": "execute_result"
    }
   ],
   "source": [
    "next(s1)"
   ]
  },
  {
   "cell_type": "code",
   "execution_count": 56,
   "id": "58504810-901d-4c6f-8b26-84e27e525f75",
   "metadata": {},
   "outputs": [
    {
     "data": {
      "text/plain": [
       "'u'"
      ]
     },
     "execution_count": 56,
     "metadata": {},
     "output_type": "execute_result"
    }
   ],
   "source": [
    "next(s1)"
   ]
  },
  {
   "cell_type": "code",
   "execution_count": 57,
   "id": "8e6dccb7-e099-4cec-b9d9-62978f90e911",
   "metadata": {},
   "outputs": [
    {
     "data": {
      "text/plain": [
       "'d'"
      ]
     },
     "execution_count": 57,
     "metadata": {},
     "output_type": "execute_result"
    }
   ],
   "source": [
    "next(s1)"
   ]
  },
  {
   "cell_type": "code",
   "execution_count": 58,
   "id": "834cd75e-672f-40eb-80cf-3350f594b24b",
   "metadata": {},
   "outputs": [
    {
     "data": {
      "text/plain": [
       "'h'"
      ]
     },
     "execution_count": 58,
     "metadata": {},
     "output_type": "execute_result"
    }
   ],
   "source": [
    "next(s1)"
   ]
  },
  {
   "cell_type": "code",
   "execution_count": 59,
   "id": "7baed6fc-dbee-4778-bb91-35025480a40d",
   "metadata": {},
   "outputs": [
    {
     "data": {
      "text/plain": [
       "str_iterator"
      ]
     },
     "execution_count": 59,
     "metadata": {},
     "output_type": "execute_result"
    }
   ],
   "source": [
    "type(s1)"
   ]
  },
  {
   "cell_type": "code",
   "execution_count": 60,
   "id": "714f419e-4486-42b7-9907-6bc36d7d9cd7",
   "metadata": {},
   "outputs": [
    {
     "ename": "TypeError",
     "evalue": "'int' object is not an iterator",
     "output_type": "error",
     "traceback": [
      "\u001b[0;31m---------------------------------------------------------------------------\u001b[0m",
      "\u001b[0;31mTypeError\u001b[0m                                 Traceback (most recent call last)",
      "Cell \u001b[0;32mIn[60], line 1\u001b[0m\n\u001b[0;32m----> 1\u001b[0m \u001b[38;5;28;43mnext\u001b[39;49m\u001b[43m(\u001b[49m\u001b[38;5;241;43m45\u001b[39;49m\u001b[43m)\u001b[49m\n",
      "\u001b[0;31mTypeError\u001b[0m: 'int' object is not an iterator"
     ]
    }
   ],
   "source": [
    "next(45)"
   ]
  },
  {
   "cell_type": "code",
   "execution_count": 61,
   "id": "c20fe6cf-fec2-4d92-82b6-f92432cbe2e8",
   "metadata": {},
   "outputs": [
    {
     "ename": "TypeError",
     "evalue": "'int' object is not iterable",
     "output_type": "error",
     "traceback": [
      "\u001b[0;31m---------------------------------------------------------------------------\u001b[0m",
      "\u001b[0;31mTypeError\u001b[0m                                 Traceback (most recent call last)",
      "Cell \u001b[0;32mIn[61], line 1\u001b[0m\n\u001b[0;32m----> 1\u001b[0m \u001b[38;5;28;43miter\u001b[39;49m\u001b[43m(\u001b[49m\u001b[38;5;241;43m45\u001b[39;49m\u001b[43m)\u001b[49m\n",
      "\u001b[0;31mTypeError\u001b[0m: 'int' object is not iterable"
     ]
    }
   ],
   "source": [
    "iter(45)"
   ]
  },
  {
   "cell_type": "code",
   "execution_count": 62,
   "id": "8943125a-16c6-4007-b669-7f1a080f39e1",
   "metadata": {},
   "outputs": [
    {
     "data": {
      "text/plain": [
       "generator"
      ]
     },
     "execution_count": 62,
     "metadata": {},
     "output_type": "execute_result"
    }
   ],
   "source": [
    "type(fib)"
   ]
  },
  {
   "cell_type": "code",
   "execution_count": 64,
   "id": "21700c6f-45e8-4d6a-a2e8-45c2fd9ce75c",
   "metadata": {},
   "outputs": [],
   "source": [
    "def count_test(n):\n",
    "    count = 1\n",
    "    while count < n :\n",
    "        yield count\n",
    "        count = count + 1"
   ]
  },
  {
   "cell_type": "code",
   "execution_count": 65,
   "id": "59b7d638-6852-48c4-b6d6-509cb04e5b99",
   "metadata": {},
   "outputs": [],
   "source": [
    "c = count_test(5)"
   ]
  },
  {
   "cell_type": "code",
   "execution_count": 66,
   "id": "5484a2fd-228c-4d02-9d95-e5eac8e5b67b",
   "metadata": {},
   "outputs": [
    {
     "name": "stdout",
     "output_type": "stream",
     "text": [
      "1\n",
      "2\n",
      "3\n",
      "4\n"
     ]
    }
   ],
   "source": [
    "for i in c:\n",
    "    print(i)"
   ]
  },
  {
   "cell_type": "code",
   "execution_count": 67,
   "id": "dd1578e2-bef9-456d-8189-2466a44a488a",
   "metadata": {},
   "outputs": [],
   "source": [
    "#Starting lambda function"
   ]
  },
  {
   "cell_type": "code",
   "execution_count": 68,
   "id": "c378c5f8-e7f5-46e8-a442-8b14cabc0542",
   "metadata": {},
   "outputs": [],
   "source": [
    "n = 3\n",
    "p = 2"
   ]
  },
  {
   "cell_type": "code",
   "execution_count": 69,
   "id": "d7908062-2b34-495a-b3a0-45417b08be9e",
   "metadata": {},
   "outputs": [],
   "source": [
    "def test(n,p):\n",
    "    return n**p"
   ]
  },
  {
   "cell_type": "code",
   "execution_count": 70,
   "id": "12369309-e3fb-45a6-bd26-75b14e314177",
   "metadata": {},
   "outputs": [
    {
     "data": {
      "text/plain": [
       "9"
      ]
     },
     "execution_count": 70,
     "metadata": {},
     "output_type": "execute_result"
    }
   ],
   "source": [
    "test(3,2)"
   ]
  },
  {
   "cell_type": "code",
   "execution_count": 71,
   "id": "62e18b81-74d1-4a27-a040-11e4d4f2d4b6",
   "metadata": {},
   "outputs": [
    {
     "data": {
      "text/plain": [
       "<function __main__.<lambda>(n, p)>"
      ]
     },
     "execution_count": 71,
     "metadata": {},
     "output_type": "execute_result"
    }
   ],
   "source": [
    "lambda n, p :n**p"
   ]
  },
  {
   "cell_type": "code",
   "execution_count": 72,
   "id": "536c9b59-63e7-4c30-8fac-222b39d9949b",
   "metadata": {},
   "outputs": [],
   "source": [
    "a = lambda n, p :n**p"
   ]
  },
  {
   "cell_type": "code",
   "execution_count": 73,
   "id": "bdd200e2-515c-4219-80e7-fa2d3b7d3226",
   "metadata": {},
   "outputs": [
    {
     "data": {
      "text/plain": [
       "9"
      ]
     },
     "execution_count": 73,
     "metadata": {},
     "output_type": "execute_result"
    }
   ],
   "source": [
    "a(3,2)"
   ]
  },
  {
   "cell_type": "code",
   "execution_count": 74,
   "id": "51c8a2ad-39c5-4da4-86b7-4c1911309557",
   "metadata": {},
   "outputs": [],
   "source": [
    "add = lambda x, y: x+y"
   ]
  },
  {
   "cell_type": "code",
   "execution_count": 75,
   "id": "84ababf4-a25d-4d19-8c26-f3ae2cc6f983",
   "metadata": {},
   "outputs": [
    {
     "data": {
      "text/plain": [
       "7"
      ]
     },
     "execution_count": 75,
     "metadata": {},
     "output_type": "execute_result"
    }
   ],
   "source": [
    "add(3,4)"
   ]
  },
  {
   "cell_type": "code",
   "execution_count": 76,
   "id": "8635d670-5d06-4ae9-af36-f169f60a2c8e",
   "metadata": {},
   "outputs": [],
   "source": [
    "sub = lambda x, y: x-y"
   ]
  },
  {
   "cell_type": "code",
   "execution_count": 77,
   "id": "4e1a5684-4d8e-4312-9c97-f150fd952f61",
   "metadata": {},
   "outputs": [
    {
     "data": {
      "text/plain": [
       "1"
      ]
     },
     "execution_count": 77,
     "metadata": {},
     "output_type": "execute_result"
    }
   ],
   "source": [
    "sub(5,4)"
   ]
  },
  {
   "cell_type": "code",
   "execution_count": 78,
   "id": "4982bfcc-6a85-4380-ba33-db35cc480d31",
   "metadata": {},
   "outputs": [],
   "source": [
    "c_to_f = lambda c: (9/5)*c+32"
   ]
  },
  {
   "cell_type": "code",
   "execution_count": 79,
   "id": "ff6d5355-9261-4b61-97bb-9249fdba47b8",
   "metadata": {},
   "outputs": [
    {
     "data": {
      "text/plain": [
       "113.0"
      ]
     },
     "execution_count": 79,
     "metadata": {},
     "output_type": "execute_result"
    }
   ],
   "source": [
    "c_to_f(45)"
   ]
  },
  {
   "cell_type": "code",
   "execution_count": 80,
   "id": "90ed931f-5062-4f4a-a930-2da63ce07768",
   "metadata": {},
   "outputs": [],
   "source": [
    "finding_max = lambda x,y : x if x>y else y"
   ]
  },
  {
   "cell_type": "code",
   "execution_count": 81,
   "id": "cefd4681-5d1a-4744-9a3e-97aa42575fd2",
   "metadata": {},
   "outputs": [
    {
     "data": {
      "text/plain": [
       "5"
      ]
     },
     "execution_count": 81,
     "metadata": {},
     "output_type": "execute_result"
    }
   ],
   "source": [
    "finding_max(4,5)"
   ]
  },
  {
   "cell_type": "code",
   "execution_count": 82,
   "id": "7921c190-241b-4cbb-9605-2e9e5c1f1c3f",
   "metadata": {},
   "outputs": [
    {
     "data": {
      "text/plain": [
       "9"
      ]
     },
     "execution_count": 82,
     "metadata": {},
     "output_type": "execute_result"
    }
   ],
   "source": [
    "finding_max(9,3)"
   ]
  },
  {
   "cell_type": "code",
   "execution_count": 83,
   "id": "27a186be-8d23-4200-90c3-867e236d09c2",
   "metadata": {},
   "outputs": [],
   "source": [
    "s = \"pwskills\""
   ]
  },
  {
   "cell_type": "code",
   "execution_count": 84,
   "id": "7c9d144b-513d-4c25-b8ee-c5cb8f1b94d9",
   "metadata": {},
   "outputs": [],
   "source": [
    "find_length = lambda s : len(s) "
   ]
  },
  {
   "cell_type": "code",
   "execution_count": 85,
   "id": "88d42968-1bd9-4361-9331-66bf1d3ee265",
   "metadata": {},
   "outputs": [
    {
     "data": {
      "text/plain": [
       "8"
      ]
     },
     "execution_count": 85,
     "metadata": {},
     "output_type": "execute_result"
    }
   ],
   "source": [
    "find_length(s)"
   ]
  },
  {
   "cell_type": "code",
   "execution_count": 86,
   "id": "d2e090e2-fc9a-4832-8c72-e716de5ae803",
   "metadata": {},
   "outputs": [],
   "source": [
    "# Map, Reduce or Filter Function class"
   ]
  },
  {
   "cell_type": "code",
   "execution_count": 87,
   "id": "28f9ac8c-6d18-4afa-b760-23cfde1cc638",
   "metadata": {},
   "outputs": [],
   "source": [
    "# Map, Reduce or Filter Function class"
   ]
  },
  {
   "cell_type": "code",
   "execution_count": 88,
   "id": "cdccf22c-d15d-4c32-b50e-45fd017a3eb6",
   "metadata": {},
   "outputs": [],
   "source": [
    "l = [2,3,4,5,6]"
   ]
  },
  {
   "cell_type": "code",
   "execution_count": 89,
   "id": "964fea4b-a92f-46cf-ba44-71120a218462",
   "metadata": {},
   "outputs": [
    {
     "data": {
      "text/plain": [
       "[2, 3, 4, 5, 6]"
      ]
     },
     "execution_count": 89,
     "metadata": {},
     "output_type": "execute_result"
    }
   ],
   "source": [
    "l"
   ]
  },
  {
   "cell_type": "code",
   "execution_count": 94,
   "id": "a74e3d78-d83e-4912-8f32-fd3d32b8c165",
   "metadata": {},
   "outputs": [],
   "source": [
    "def test(l):\n",
    "    l1 = []\n",
    "    for i in l:\n",
    "        l1.append(i**2)\n",
    "    return l1"
   ]
  },
  {
   "cell_type": "code",
   "execution_count": 96,
   "id": "e874f659-8919-4328-8ed2-0f6a95ad45b1",
   "metadata": {},
   "outputs": [
    {
     "data": {
      "text/plain": [
       "[4, 9, 16, 25, 36]"
      ]
     },
     "execution_count": 96,
     "metadata": {},
     "output_type": "execute_result"
    }
   ],
   "source": [
    "test(l)"
   ]
  },
  {
   "cell_type": "code",
   "execution_count": 97,
   "id": "87eb69af-262d-42ba-a767-95caea9f6f0e",
   "metadata": {},
   "outputs": [],
   "source": [
    "def sq(x):\n",
    "    return x**2"
   ]
  },
  {
   "cell_type": "code",
   "execution_count": 98,
   "id": "a682c660-2728-4d27-88a7-441f92743f18",
   "metadata": {},
   "outputs": [
    {
     "data": {
      "text/plain": [
       "<map at 0x7f078414e7d0>"
      ]
     },
     "execution_count": 98,
     "metadata": {},
     "output_type": "execute_result"
    }
   ],
   "source": [
    "map(sq , l)"
   ]
  },
  {
   "cell_type": "code",
   "execution_count": 101,
   "id": "72868d1d-551d-4c72-9366-2e5504f54e9e",
   "metadata": {},
   "outputs": [
    {
     "data": {
      "text/plain": [
       "[4, 9, 16, 25, 36]"
      ]
     },
     "execution_count": 101,
     "metadata": {},
     "output_type": "execute_result"
    }
   ],
   "source": [
    "list(map(sq , l))      #mapping in list"
   ]
  },
  {
   "cell_type": "code",
   "execution_count": 100,
   "id": "0cfc536f-4959-45cc-9a85-c81264188f8c",
   "metadata": {},
   "outputs": [
    {
     "data": {
      "text/plain": [
       "[4, 9, 16, 25, 36]"
      ]
     },
     "execution_count": 100,
     "metadata": {},
     "output_type": "execute_result"
    }
   ],
   "source": [
    "list(map(lambda x: x**2, l))"
   ]
  },
  {
   "cell_type": "code",
   "execution_count": 102,
   "id": "f1c985a7-a213-4659-b1ca-20bda501bb91",
   "metadata": {},
   "outputs": [
    {
     "data": {
      "text/plain": [
       "[7, 9, 11, 13, 15]"
      ]
     },
     "execution_count": 102,
     "metadata": {},
     "output_type": "execute_result"
    }
   ],
   "source": [
    "l1 = [1,2,3,4,5]\n",
    "l2 = [6,7,8,9,10]\n",
    "\n",
    "list(map(lambda x,y : x+y, l1 , l2))"
   ]
  },
  {
   "cell_type": "code",
   "execution_count": 103,
   "id": "bc7b1d1b-9930-4e95-9ce2-ccae646da850",
   "metadata": {},
   "outputs": [],
   "source": [
    "def add(x,y):\n",
    "    return x+y"
   ]
  },
  {
   "cell_type": "code",
   "execution_count": 105,
   "id": "950fccbc-74b3-4059-b8cf-69bacc512d98",
   "metadata": {},
   "outputs": [
    {
     "data": {
      "text/plain": [
       "[7, 9, 11, 13, 15]"
      ]
     },
     "execution_count": 105,
     "metadata": {},
     "output_type": "execute_result"
    }
   ],
   "source": [
    "list(map(add , l1, l2))"
   ]
  },
  {
   "cell_type": "code",
   "execution_count": 106,
   "id": "16dd245a-95d7-4699-9323-63f08b561657",
   "metadata": {},
   "outputs": [],
   "source": [
    "s = \"pwslkills\""
   ]
  },
  {
   "cell_type": "code",
   "execution_count": 107,
   "id": "0802ee7c-0227-4cdd-bad4-969bc04ab972",
   "metadata": {},
   "outputs": [
    {
     "data": {
      "text/plain": [
       "'PWSLKILLS'"
      ]
     },
     "execution_count": 107,
     "metadata": {},
     "output_type": "execute_result"
    }
   ],
   "source": [
    "s.upper()"
   ]
  },
  {
   "cell_type": "code",
   "execution_count": 108,
   "id": "5431ad90-6a6b-4da8-b923-d85c395f8306",
   "metadata": {},
   "outputs": [
    {
     "data": {
      "text/plain": [
       "'pwslkills'"
      ]
     },
     "execution_count": 108,
     "metadata": {},
     "output_type": "execute_result"
    }
   ],
   "source": [
    "s"
   ]
  },
  {
   "cell_type": "code",
   "execution_count": 111,
   "id": "27d66962-0603-401b-b257-27082603cd27",
   "metadata": {},
   "outputs": [
    {
     "data": {
      "text/plain": [
       "['P', 'W', 'S', 'L', 'K', 'I', 'L', 'L', 'S']"
      ]
     },
     "execution_count": 111,
     "metadata": {},
     "output_type": "execute_result"
    }
   ],
   "source": [
    "list(map(lambda s : s.upper(), s))"
   ]
  },
  {
   "cell_type": "code",
   "execution_count": 112,
   "id": "4a50cb66-a5df-4145-b592-9d2c01d8b39b",
   "metadata": {},
   "outputs": [
    {
     "data": {
      "text/plain": [
       "['p', 'w', 's', 'l', 'k', 'i', 'l', 'l', 's']"
      ]
     },
     "execution_count": 112,
     "metadata": {},
     "output_type": "execute_result"
    }
   ],
   "source": [
    "list(map(lambda s : s.lower(), s))"
   ]
  },
  {
   "cell_type": "code",
   "execution_count": 113,
   "id": "9b67f102-4eff-491f-86e2-2e82b956c048",
   "metadata": {},
   "outputs": [],
   "source": [
    "# start reduce class"
   ]
  },
  {
   "cell_type": "code",
   "execution_count": 114,
   "id": "d1621a6e-1b94-4863-b250-417946331ce7",
   "metadata": {},
   "outputs": [],
   "source": [
    "# start reduce class"
   ]
  },
  {
   "cell_type": "code",
   "execution_count": 116,
   "id": "896b667f-4ebd-4703-a7a7-c9444d143612",
   "metadata": {},
   "outputs": [],
   "source": [
    "from functools import reduce"
   ]
  },
  {
   "cell_type": "code",
   "execution_count": 117,
   "id": "7182c7f3-d27c-4c21-9c29-40e058eb21e5",
   "metadata": {},
   "outputs": [],
   "source": [
    "l = [1,2,3,4,5,6,7]"
   ]
  },
  {
   "cell_type": "code",
   "execution_count": 119,
   "id": "2eaf609e-578a-4230-8fda-ec2f1b1385ae",
   "metadata": {},
   "outputs": [
    {
     "data": {
      "text/plain": [
       "28"
      ]
     },
     "execution_count": 119,
     "metadata": {},
     "output_type": "execute_result"
    }
   ],
   "source": [
    "reduce(lambda x, y : x+y , l)"
   ]
  },
  {
   "cell_type": "code",
   "execution_count": 120,
   "id": "c25a1e04-23a6-4ae9-bf16-a4dd4add9324",
   "metadata": {},
   "outputs": [
    {
     "ename": "TypeError",
     "evalue": "<lambda>() missing 1 required positional argument: 'z'",
     "output_type": "error",
     "traceback": [
      "\u001b[0;31m---------------------------------------------------------------------------\u001b[0m",
      "\u001b[0;31mTypeError\u001b[0m                                 Traceback (most recent call last)",
      "Cell \u001b[0;32mIn[120], line 1\u001b[0m\n\u001b[0;32m----> 1\u001b[0m \u001b[43mreduce\u001b[49m\u001b[43m(\u001b[49m\u001b[38;5;28;43;01mlambda\u001b[39;49;00m\u001b[43m \u001b[49m\u001b[43mx\u001b[49m\u001b[43m,\u001b[49m\u001b[43m \u001b[49m\u001b[43my\u001b[49m\u001b[43m,\u001b[49m\u001b[43m \u001b[49m\u001b[43mz\u001b[49m\u001b[43m \u001b[49m\u001b[43m:\u001b[49m\u001b[43m \u001b[49m\u001b[43mx\u001b[49m\u001b[38;5;241;43m+\u001b[39;49m\u001b[43my\u001b[49m\u001b[38;5;241;43m+\u001b[39;49m\u001b[43mz\u001b[49m\u001b[43m,\u001b[49m\u001b[43m \u001b[49m\u001b[43ml\u001b[49m\u001b[43m)\u001b[49m\n",
      "\u001b[0;31mTypeError\u001b[0m: <lambda>() missing 1 required positional argument: 'z'"
     ]
    }
   ],
   "source": [
    "reduce(lambda x, y, z : x+y+z, l)"
   ]
  },
  {
   "cell_type": "code",
   "execution_count": 121,
   "id": "b2988f03-4eaa-4789-918d-eb5879e7960b",
   "metadata": {},
   "outputs": [
    {
     "ename": "TypeError",
     "evalue": "reduce() of empty iterable with no initial value",
     "output_type": "error",
     "traceback": [
      "\u001b[0;31m---------------------------------------------------------------------------\u001b[0m",
      "\u001b[0;31mTypeError\u001b[0m                                 Traceback (most recent call last)",
      "Cell \u001b[0;32mIn[121], line 1\u001b[0m\n\u001b[0;32m----> 1\u001b[0m \u001b[43mreduce\u001b[49m\u001b[43m(\u001b[49m\u001b[38;5;28;43;01mlambda\u001b[39;49;00m\u001b[43m \u001b[49m\u001b[43mx\u001b[49m\u001b[43m,\u001b[49m\u001b[43m \u001b[49m\u001b[43my\u001b[49m\u001b[43m \u001b[49m\u001b[43m:\u001b[49m\u001b[43m \u001b[49m\u001b[43mx\u001b[49m\u001b[38;5;241;43m+\u001b[39;49m\u001b[43my\u001b[49m\u001b[43m,\u001b[49m\u001b[43m \u001b[49m\u001b[43m[\u001b[49m\u001b[43m]\u001b[49m\u001b[43m)\u001b[49m\n",
      "\u001b[0;31mTypeError\u001b[0m: reduce() of empty iterable with no initial value"
     ]
    }
   ],
   "source": [
    "reduce(lambda x, y : x+y, [])"
   ]
  },
  {
   "cell_type": "code",
   "execution_count": 122,
   "id": "445bbe51-1f8d-4e1d-a241-c8169e2ef870",
   "metadata": {},
   "outputs": [
    {
     "data": {
      "text/plain": [
       "1"
      ]
     },
     "execution_count": 122,
     "metadata": {},
     "output_type": "execute_result"
    }
   ],
   "source": [
    "reduce(lambda x, y : x+y, [1])"
   ]
  },
  {
   "cell_type": "code",
   "execution_count": 123,
   "id": "28e79075-40aa-483f-8a3f-711e53b50bab",
   "metadata": {},
   "outputs": [
    {
     "data": {
      "text/plain": [
       "5040"
      ]
     },
     "execution_count": 123,
     "metadata": {},
     "output_type": "execute_result"
    }
   ],
   "source": [
    "reduce(lambda x, y : x*y, l)"
   ]
  },
  {
   "cell_type": "code",
   "execution_count": 124,
   "id": "eb341a41-318d-4732-a128-0c0a4ff98c3b",
   "metadata": {},
   "outputs": [
    {
     "data": {
      "text/plain": [
       "[1, 2, 3, 4, 5, 6, 7]"
      ]
     },
     "execution_count": 124,
     "metadata": {},
     "output_type": "execute_result"
    }
   ],
   "source": [
    "l"
   ]
  },
  {
   "cell_type": "code",
   "execution_count": 125,
   "id": "dc946ef3-ff12-4f54-8053-434d33ad963f",
   "metadata": {},
   "outputs": [
    {
     "data": {
      "text/plain": [
       "7"
      ]
     },
     "execution_count": 125,
     "metadata": {},
     "output_type": "execute_result"
    }
   ],
   "source": [
    "reduce(lambda x, y : x if x>y else y, l)"
   ]
  },
  {
   "cell_type": "code",
   "execution_count": 126,
   "id": "d9e4eae5-c1ee-4961-9c51-ec360d81fb82",
   "metadata": {},
   "outputs": [
    {
     "data": {
      "text/plain": [
       "[1, 2, 3, 4, 5, 6, 7]"
      ]
     },
     "execution_count": 126,
     "metadata": {},
     "output_type": "execute_result"
    }
   ],
   "source": [
    "l"
   ]
  },
  {
   "cell_type": "code",
   "execution_count": 127,
   "id": "15627549-4c1e-4803-8f57-db337fd8e020",
   "metadata": {},
   "outputs": [
    {
     "data": {
      "text/plain": [
       "[2, 4, 6]"
      ]
     },
     "execution_count": 127,
     "metadata": {},
     "output_type": "execute_result"
    }
   ],
   "source": [
    "list(filter(lambda x : x%2==0, l))"
   ]
  },
  {
   "cell_type": "code",
   "execution_count": 129,
   "id": "5acff04f-dcfa-4d7c-b971-ccd2e0b2d3ae",
   "metadata": {},
   "outputs": [
    {
     "data": {
      "text/plain": [
       "[1, 3, 5, 7]"
      ]
     },
     "execution_count": 129,
     "metadata": {},
     "output_type": "execute_result"
    }
   ],
   "source": [
    "list(filter(lambda x : x%2!=0, l))"
   ]
  },
  {
   "cell_type": "code",
   "execution_count": 130,
   "id": "12562672-2ea3-4501-9e23-2895ae08be42",
   "metadata": {},
   "outputs": [],
   "source": [
    "l1 = [-1,3,4,-5,0,5,-6]"
   ]
  },
  {
   "cell_type": "code",
   "execution_count": 131,
   "id": "5d626917-fd0f-4fe5-9cfc-ceb6b07db6b3",
   "metadata": {},
   "outputs": [
    {
     "data": {
      "text/plain": [
       "[-1, -5, -6]"
      ]
     },
     "execution_count": 131,
     "metadata": {},
     "output_type": "execute_result"
    }
   ],
   "source": [
    "list(filter(lambda x : x<0, l1))"
   ]
  },
  {
   "cell_type": "code",
   "execution_count": 132,
   "id": "5a4c08af-0c70-4b95-872c-dd1f846924ca",
   "metadata": {},
   "outputs": [
    {
     "data": {
      "text/plain": [
       "[3, 4, 0, 5]"
      ]
     },
     "execution_count": 132,
     "metadata": {},
     "output_type": "execute_result"
    }
   ],
   "source": [
    "list(filter(lambda x : x>=0, l1))"
   ]
  },
  {
   "cell_type": "code",
   "execution_count": 133,
   "id": "11fa2b79-a369-4d5e-bc7b-ede5cc4ee0df",
   "metadata": {},
   "outputs": [
    {
     "data": {
      "text/plain": [
       "[3, 4, 5]"
      ]
     },
     "execution_count": 133,
     "metadata": {},
     "output_type": "execute_result"
    }
   ],
   "source": [
    "list(filter(lambda x : x>0, l1))"
   ]
  },
  {
   "cell_type": "code",
   "execution_count": 134,
   "id": "5425b94c-599f-4c31-8a1f-81b151592b77",
   "metadata": {},
   "outputs": [],
   "source": [
    "l2 = [\"pwskills\", \"kumar\", 'bengalore', \"krish\"]"
   ]
  },
  {
   "cell_type": "code",
   "execution_count": 136,
   "id": "b4f7c0b0-783e-427c-b7f3-66bbaa6ccb12",
   "metadata": {},
   "outputs": [
    {
     "data": {
      "text/plain": [
       "['kumar', 'krish']"
      ]
     },
     "execution_count": 136,
     "metadata": {},
     "output_type": "execute_result"
    }
   ],
   "source": [
    "list(filter(lambda x : len(x)<6, l2))"
   ]
  },
  {
   "cell_type": "code",
   "execution_count": 137,
   "id": "0ee1f3c9-9a31-48fd-82fd-f45e2bffb5ac",
   "metadata": {},
   "outputs": [
    {
     "data": {
      "text/plain": [
       "['pwskills', 'bengalore']"
      ]
     },
     "execution_count": 137,
     "metadata": {},
     "output_type": "execute_result"
    }
   ],
   "source": [
    "list(filter(lambda x : len(x)>6, l2))"
   ]
  },
  {
   "cell_type": "code",
   "execution_count": null,
   "id": "c4e80ad3-75c9-4a0b-a6c4-2e8205910ece",
   "metadata": {},
   "outputs": [],
   "source": []
  }
 ],
 "metadata": {
  "kernelspec": {
   "display_name": "Python 3 (ipykernel)",
   "language": "python",
   "name": "python3"
  },
  "language_info": {
   "codemirror_mode": {
    "name": "ipython",
    "version": 3
   },
   "file_extension": ".py",
   "mimetype": "text/x-python",
   "name": "python",
   "nbconvert_exporter": "python",
   "pygments_lexer": "ipython3",
   "version": "3.10.8"
  }
 },
 "nbformat": 4,
 "nbformat_minor": 5
}
