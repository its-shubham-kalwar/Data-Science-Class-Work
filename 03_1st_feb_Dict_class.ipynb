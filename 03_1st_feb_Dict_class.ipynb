{
 "cells": [
  {
   "cell_type": "code",
   "execution_count": 8,
   "id": "9fddc5bf-9292-4807-b2ee-6b78895b8c3a",
   "metadata": {},
   "outputs": [],
   "source": [
    "d = {}"
   ]
  },
  {
   "cell_type": "code",
   "execution_count": 9,
   "id": "911d2b94-6a74-4d8c-a73b-b590d9961da0",
   "metadata": {},
   "outputs": [
    {
     "data": {
      "text/plain": [
       "dict"
      ]
     },
     "execution_count": 9,
     "metadata": {},
     "output_type": "execute_result"
    }
   ],
   "source": [
    "type(d)"
   ]
  },
  {
   "cell_type": "code",
   "execution_count": 10,
   "id": "f1945a94-6bb4-4e57-9c4a-4668564c3db6",
   "metadata": {},
   "outputs": [],
   "source": [
    "d1 = {'key' : 'value'}"
   ]
  },
  {
   "cell_type": "code",
   "execution_count": 11,
   "id": "da3f32e4-ae85-4235-a450-3eb8028b1aee",
   "metadata": {},
   "outputs": [
    {
     "data": {
      "text/plain": [
       "{'key': 'value'}"
      ]
     },
     "execution_count": 11,
     "metadata": {},
     "output_type": "execute_result"
    }
   ],
   "source": [
    "d1"
   ]
  },
  {
   "cell_type": "code",
   "execution_count": 12,
   "id": "2d1e14c4-556d-4769-87cd-c7c765d96ae1",
   "metadata": {},
   "outputs": [],
   "source": [
    "d2 ={'name':'shubham','email':'sk@gmail.com','number':34666}"
   ]
  },
  {
   "cell_type": "code",
   "execution_count": 13,
   "id": "94a36831-2824-4817-aeaa-66e0fda966f1",
   "metadata": {},
   "outputs": [
    {
     "data": {
      "text/plain": [
       "{'name': 'shubham', 'email': 'sk@gmail.com', 'number': 34666}"
      ]
     },
     "execution_count": 13,
     "metadata": {},
     "output_type": "execute_result"
    }
   ],
   "source": [
    "d2"
   ]
  },
  {
   "cell_type": "code",
   "execution_count": 14,
   "id": "17ff7ad6-63a4-4f81-b064-73cb95a70630",
   "metadata": {},
   "outputs": [],
   "source": [
    "d3 ={234 : 'kbs'}"
   ]
  },
  {
   "cell_type": "code",
   "execution_count": 15,
   "id": "35cbab66-c959-49ee-a3e0-dd7ce45d2849",
   "metadata": {},
   "outputs": [
    {
     "ename": "SyntaxError",
     "evalue": "invalid syntax (971099846.py, line 1)",
     "output_type": "error",
     "traceback": [
      "\u001b[0;36m  Cell \u001b[0;32mIn[15], line 1\u001b[0;36m\u001b[0m\n\u001b[0;31m    d3 ={234 : 'kbs', @fdf : 'jfij'}\u001b[0m\n\u001b[0m                      ^\u001b[0m\n\u001b[0;31mSyntaxError\u001b[0m\u001b[0;31m:\u001b[0m invalid syntax\n"
     ]
    }
   ],
   "source": [
    "d3 ={234 : 'kbs', @fdf : 'jfij'}"
   ]
  },
  {
   "cell_type": "code",
   "execution_count": 16,
   "id": "af087c28-b9b2-4870-af87-7e1a423bc8d1",
   "metadata": {},
   "outputs": [],
   "source": [
    "d3 ={234 : 'kbs', '_fdf' : 'jfij'}"
   ]
  },
  {
   "cell_type": "code",
   "execution_count": 17,
   "id": "73198f6d-4062-48e9-9a9a-efb7778984b8",
   "metadata": {},
   "outputs": [
    {
     "data": {
      "text/plain": [
       "{234: 'kbs', '_fdf': 'jfij'}"
      ]
     },
     "execution_count": 17,
     "metadata": {},
     "output_type": "execute_result"
    }
   ],
   "source": [
    "d3"
   ]
  },
  {
   "cell_type": "code",
   "execution_count": 18,
   "id": "6a9849e4-e2d9-4d67-8804-0b05e4ad34d4",
   "metadata": {},
   "outputs": [],
   "source": [
    "d3 ={234 : 'kbs', '_fdf' : 'jfij',True : 2345}"
   ]
  },
  {
   "cell_type": "code",
   "execution_count": 19,
   "id": "9cd9e9e8-5202-47a3-af15-959566c44784",
   "metadata": {},
   "outputs": [
    {
     "data": {
      "text/plain": [
       "{234: 'kbs', '_fdf': 'jfij', True: 2345}"
      ]
     },
     "execution_count": 19,
     "metadata": {},
     "output_type": "execute_result"
    }
   ],
   "source": [
    "d3"
   ]
  },
  {
   "cell_type": "code",
   "execution_count": 20,
   "id": "1bc5562d-fe4e-43bb-a25a-ef4421447178",
   "metadata": {},
   "outputs": [
    {
     "data": {
      "text/plain": [
       "'kbs'"
      ]
     },
     "execution_count": 20,
     "metadata": {},
     "output_type": "execute_result"
    }
   ],
   "source": [
    "d3[234]"
   ]
  },
  {
   "cell_type": "code",
   "execution_count": 21,
   "id": "3b64e3b4-601e-4fd6-b3c4-5ef3a2da293a",
   "metadata": {},
   "outputs": [
    {
     "data": {
      "text/plain": [
       "2345"
      ]
     },
     "execution_count": 21,
     "metadata": {},
     "output_type": "execute_result"
    }
   ],
   "source": [
    "d3[True]"
   ]
  },
  {
   "cell_type": "code",
   "execution_count": 22,
   "id": "7d4662b8-eff6-4829-88bb-250a6e7f62a1",
   "metadata": {},
   "outputs": [
    {
     "data": {
      "text/plain": [
       "2345"
      ]
     },
     "execution_count": 22,
     "metadata": {},
     "output_type": "execute_result"
    }
   ],
   "source": [
    "d3[1]"
   ]
  },
  {
   "cell_type": "code",
   "execution_count": 23,
   "id": "33cdfe9c-a2cf-4150-86e9-f6c7d4f75d1e",
   "metadata": {},
   "outputs": [],
   "source": [
    "d4 ={'name':'kbs','mail_id':'kbs@gmail.com','name':'shub'}"
   ]
  },
  {
   "cell_type": "code",
   "execution_count": 24,
   "id": "e09c6c11-1e3d-4fe4-85af-e7f5df492ff7",
   "metadata": {},
   "outputs": [
    {
     "data": {
      "text/plain": [
       "{'name': 'shub', 'mail_id': 'kbs@gmail.com'}"
      ]
     },
     "execution_count": 24,
     "metadata": {},
     "output_type": "execute_result"
    }
   ],
   "source": [
    "d4"
   ]
  },
  {
   "cell_type": "code",
   "execution_count": 25,
   "id": "ad787a28-57ed-4979-a4c8-72afc4a58c68",
   "metadata": {},
   "outputs": [
    {
     "data": {
      "text/plain": [
       "'shub'"
      ]
     },
     "execution_count": 25,
     "metadata": {},
     "output_type": "execute_result"
    }
   ],
   "source": [
    "d4['name']"
   ]
  },
  {
   "cell_type": "code",
   "execution_count": 26,
   "id": "abb75469-e613-42ac-b690-cf147089c0e5",
   "metadata": {},
   "outputs": [],
   "source": [
    "d5 = {'company':'pwskills','course':['java','data science','python']}"
   ]
  },
  {
   "cell_type": "code",
   "execution_count": 27,
   "id": "8e43bc48-971e-4575-9f4d-a0d93cf8ac0a",
   "metadata": {},
   "outputs": [
    {
     "data": {
      "text/plain": [
       "{'company': 'pwskills', 'course': ['java', 'data science', 'python']}"
      ]
     },
     "execution_count": 27,
     "metadata": {},
     "output_type": "execute_result"
    }
   ],
   "source": [
    "d5"
   ]
  },
  {
   "cell_type": "code",
   "execution_count": 28,
   "id": "40284b31-85aa-439e-a83a-d6d19f2bbebf",
   "metadata": {},
   "outputs": [
    {
     "data": {
      "text/plain": [
       "['java', 'data science', 'python']"
      ]
     },
     "execution_count": 28,
     "metadata": {},
     "output_type": "execute_result"
    }
   ],
   "source": [
    "d5['course']"
   ]
  },
  {
   "cell_type": "code",
   "execution_count": 29,
   "id": "5f6f02fd-bca2-414f-a694-ceb67fc1652c",
   "metadata": {},
   "outputs": [
    {
     "data": {
      "text/plain": [
       "'data science'"
      ]
     },
     "execution_count": 29,
     "metadata": {},
     "output_type": "execute_result"
    }
   ],
   "source": [
    "d5['course'][1]"
   ]
  },
  {
   "cell_type": "code",
   "execution_count": 30,
   "id": "061e52d5-7ff3-4cbf-b67a-0ae642c64bf7",
   "metadata": {},
   "outputs": [],
   "source": [
    "d6 = {'number':[2,3,4,5,6],'assignment':(1,2,3,4,5),'lunch_date':{28,12,14},'class_timing':{'javs':4,'data science':7,'python':8}}"
   ]
  },
  {
   "cell_type": "code",
   "execution_count": 31,
   "id": "8f49f14d-7155-459a-9853-bd6387d7b13f",
   "metadata": {},
   "outputs": [
    {
     "data": {
      "text/plain": [
       "{'number': [2, 3, 4, 5, 6],\n",
       " 'assignment': (1, 2, 3, 4, 5),\n",
       " 'lunch_date': {12, 14, 28},\n",
       " 'class_timing': {'javs': 4, 'data science': 7, 'python': 8}}"
      ]
     },
     "execution_count": 31,
     "metadata": {},
     "output_type": "execute_result"
    }
   ],
   "source": [
    "d6"
   ]
  },
  {
   "cell_type": "code",
   "execution_count": 32,
   "id": "3dc0c087-2b66-4191-8b3b-380edc018126",
   "metadata": {},
   "outputs": [
    {
     "data": {
      "text/plain": [
       "8"
      ]
     },
     "execution_count": 32,
     "metadata": {},
     "output_type": "execute_result"
    }
   ],
   "source": [
    "d6['class_timing']['python']"
   ]
  },
  {
   "cell_type": "code",
   "execution_count": 33,
   "id": "e1fc8bc4-40de-478e-99ff-f946de3621f9",
   "metadata": {},
   "outputs": [
    {
     "data": {
      "text/plain": [
       "{12, 14, 28}"
      ]
     },
     "execution_count": 33,
     "metadata": {},
     "output_type": "execute_result"
    }
   ],
   "source": [
    "d6['lunch_date']"
   ]
  },
  {
   "cell_type": "code",
   "execution_count": 34,
   "id": "d99d06ff-c06d-47aa-8538-50fa0b20d139",
   "metadata": {},
   "outputs": [],
   "source": [
    "d6['menter']=['shudhanshu','anurag','krish']"
   ]
  },
  {
   "cell_type": "code",
   "execution_count": 35,
   "id": "2c2633d9-6f11-4d81-9430-5ca46d85cd6b",
   "metadata": {},
   "outputs": [
    {
     "data": {
      "text/plain": [
       "{'number': [2, 3, 4, 5, 6],\n",
       " 'assignment': (1, 2, 3, 4, 5),\n",
       " 'lunch_date': {12, 14, 28},\n",
       " 'class_timing': {'javs': 4, 'data science': 7, 'python': 8},\n",
       " 'menter': ['shudhanshu', 'anurag', 'krish']}"
      ]
     },
     "execution_count": 35,
     "metadata": {},
     "output_type": "execute_result"
    }
   ],
   "source": [
    "d6"
   ]
  },
  {
   "cell_type": "code",
   "execution_count": 36,
   "id": "92529b05-ed88-4a5b-afce-2285b51ab223",
   "metadata": {},
   "outputs": [
    {
     "data": {
      "text/plain": [
       "dict_keys(['number', 'assignment', 'lunch_date', 'class_timing', 'menter'])"
      ]
     },
     "execution_count": 36,
     "metadata": {},
     "output_type": "execute_result"
    }
   ],
   "source": [
    "d6.keys()"
   ]
  },
  {
   "cell_type": "code",
   "execution_count": 37,
   "id": "56bcdc5b-7594-48cc-bb75-1b174c3d46dd",
   "metadata": {},
   "outputs": [
    {
     "data": {
      "text/plain": [
       "dict_values([[2, 3, 4, 5, 6], (1, 2, 3, 4, 5), {28, 12, 14}, {'javs': 4, 'data science': 7, 'python': 8}, ['shudhanshu', 'anurag', 'krish']])"
      ]
     },
     "execution_count": 37,
     "metadata": {},
     "output_type": "execute_result"
    }
   ],
   "source": [
    "d6.values()"
   ]
  },
  {
   "cell_type": "code",
   "execution_count": 38,
   "id": "210fc875-951f-452f-8db0-ca8b2750c3d4",
   "metadata": {},
   "outputs": [
    {
     "data": {
      "text/plain": [
       "['number', 'assignment', 'lunch_date', 'class_timing', 'menter']"
      ]
     },
     "execution_count": 38,
     "metadata": {},
     "output_type": "execute_result"
    }
   ],
   "source": [
    "list(d6.keys())"
   ]
  },
  {
   "cell_type": "code",
   "execution_count": 39,
   "id": "c2ff137c-3b17-43e9-bef2-2911f95e249d",
   "metadata": {},
   "outputs": [
    {
     "data": {
      "text/plain": [
       "[[2, 3, 4, 5, 6],\n",
       " (1, 2, 3, 4, 5),\n",
       " {12, 14, 28},\n",
       " {'javs': 4, 'data science': 7, 'python': 8},\n",
       " ['shudhanshu', 'anurag', 'krish']]"
      ]
     },
     "execution_count": 39,
     "metadata": {},
     "output_type": "execute_result"
    }
   ],
   "source": [
    "list(d6.values())"
   ]
  },
  {
   "cell_type": "code",
   "execution_count": 40,
   "id": "47c4d058-c36b-443d-b9f9-57941af23a32",
   "metadata": {},
   "outputs": [
    {
     "data": {
      "text/plain": [
       "dict_items([('number', [2, 3, 4, 5, 6]), ('assignment', (1, 2, 3, 4, 5)), ('lunch_date', {28, 12, 14}), ('class_timing', {'javs': 4, 'data science': 7, 'python': 8}), ('menter', ['shudhanshu', 'anurag', 'krish'])])"
      ]
     },
     "execution_count": 40,
     "metadata": {},
     "output_type": "execute_result"
    }
   ],
   "source": [
    "d6.items()"
   ]
  },
  {
   "cell_type": "code",
   "execution_count": 41,
   "id": "d93916d1-d806-4f45-b5f2-68d2fbecb479",
   "metadata": {},
   "outputs": [
    {
     "data": {
      "text/plain": [
       "[('number', [2, 3, 4, 5, 6]),\n",
       " ('assignment', (1, 2, 3, 4, 5)),\n",
       " ('lunch_date', {12, 14, 28}),\n",
       " ('class_timing', {'javs': 4, 'data science': 7, 'python': 8}),\n",
       " ('menter', ['shudhanshu', 'anurag', 'krish'])]"
      ]
     },
     "execution_count": 41,
     "metadata": {},
     "output_type": "execute_result"
    }
   ],
   "source": [
    "list(d6.items())"
   ]
  },
  {
   "cell_type": "code",
   "execution_count": 42,
   "id": "7b8a2b28-aff9-4118-ba8b-d375a8c52145",
   "metadata": {},
   "outputs": [
    {
     "data": {
      "text/plain": [
       "[2, 3, 4, 5, 6]"
      ]
     },
     "execution_count": 42,
     "metadata": {},
     "output_type": "execute_result"
    }
   ],
   "source": [
    "d6.pop('number')"
   ]
  },
  {
   "cell_type": "code",
   "execution_count": 43,
   "id": "7a74e940-238d-4170-aa8c-c06075365031",
   "metadata": {},
   "outputs": [
    {
     "data": {
      "text/plain": [
       "{'assignment': (1, 2, 3, 4, 5),\n",
       " 'lunch_date': {12, 14, 28},\n",
       " 'class_timing': {'javs': 4, 'data science': 7, 'python': 8},\n",
       " 'menter': ['shudhanshu', 'anurag', 'krish']}"
      ]
     },
     "execution_count": 43,
     "metadata": {},
     "output_type": "execute_result"
    }
   ],
   "source": [
    "d6"
   ]
  },
  {
   "cell_type": "code",
   "execution_count": 44,
   "id": "5723123b-8fcd-44ed-84f2-ea7b5e78540a",
   "metadata": {},
   "outputs": [
    {
     "ename": "TypeError",
     "evalue": "pop expected at least 1 argument, got 0",
     "output_type": "error",
     "traceback": [
      "\u001b[0;31m---------------------------------------------------------------------------\u001b[0m",
      "\u001b[0;31mTypeError\u001b[0m                                 Traceback (most recent call last)",
      "Cell \u001b[0;32mIn[44], line 1\u001b[0m\n\u001b[0;32m----> 1\u001b[0m \u001b[43md6\u001b[49m\u001b[38;5;241;43m.\u001b[39;49m\u001b[43mpop\u001b[49m\u001b[43m(\u001b[49m\u001b[43m)\u001b[49m\n",
      "\u001b[0;31mTypeError\u001b[0m: pop expected at least 1 argument, got 0"
     ]
    }
   ],
   "source": [
    "d6.pop()"
   ]
  },
  {
   "cell_type": "code",
   "execution_count": null,
   "id": "de70a918-ddbc-42dc-9819-eaa31e4b66e8",
   "metadata": {},
   "outputs": [],
   "source": [
    "marks = 65\n",
    "if marks >= 80:\n",
    "    print(\"you will be a part of A0 batch\")\n",
    "elif marks >= 60 and marks < 80 :\n",
    "    print(\"you will be a part of A1 batch\")\n",
    "elif marks >= 40 and marks < 60 :\n",
    "    print('you will be a part of A2 batch')\n",
    "else :\n",
    "    print('you will be a part of A3 batch')"
   ]
  },
  {
   "cell_type": "code",
   "execution_count": 45,
   "id": "beda6f49-9f2f-4506-a6b6-299c8baadd3d",
   "metadata": {},
   "outputs": [
    {
     "name": "stdout",
     "output_type": "stream",
     "text": [
      "you will be a part of A3 batch\n"
     ]
    }
   ],
   "source": [
    "marks = -463546\n",
    "if marks >= 80:\n",
    "    print(\"you will be a part of A0 batch\")\n",
    "elif marks >= 60 and marks < 80 :\n",
    "    print(\"you will be a part of A1 batch\")\n",
    "elif marks >= 40 and marks < 60 :\n",
    "    print('you will be a part of A2 batch')\n",
    "else :\n",
    "    print('you will be a part of A3 batch')"
   ]
  },
  {
   "cell_type": "code",
   "execution_count": 46,
   "id": "5807879c-45e9-4557-a67e-afba292c374d",
   "metadata": {},
   "outputs": [
    {
     "name": "stdout",
     "output_type": "stream",
     "text": [
      "you will be a part of A1 batch\n"
     ]
    }
   ],
   "source": [
    "marks = 67\n",
    "if marks >= 80 :\n",
    "    print(\"you will be a part of A0 batch\")\n",
    "elif marks >= 60 and marks < 80 :\n",
    "    print(\"you will be a part of A1 batch\")\n",
    "elif marks >= 40 and marks < 60 :\n",
    "    print('you will be a part of A2 batch')\n",
    "else :\n",
    "    print('you will be a part of A3 batch')"
   ]
  },
  {
   "cell_type": "code",
   "execution_count": 47,
   "id": "55f99b62-7939-487d-b217-2fe563d68762",
   "metadata": {},
   "outputs": [
    {
     "name": "stdout",
     "output_type": "stream",
     "text": [
      "you will be a part of A3 batch\n"
     ]
    }
   ],
   "source": [
    "marks = 34\n",
    "if marks >= 80:\n",
    "    print(\"you will be a part of A0 batch\")\n",
    "elif marks >= 60 and marks < 80 :\n",
    "    print(\"you will be a part of A1 batch\")\n",
    "elif marks >= 40 and marks < 60 :\n",
    "    print('you will be a part of A2 batch')\n",
    "else :\n",
    "    print('you will be a part of A3 batch')"
   ]
  },
  {
   "cell_type": "code",
   "execution_count": 48,
   "id": "bb1febf8-34fb-4053-affd-0bcc47474fd5",
   "metadata": {},
   "outputs": [
    {
     "data": {
      "text/plain": [
       "int"
      ]
     },
     "execution_count": 48,
     "metadata": {},
     "output_type": "execute_result"
    }
   ],
   "source": [
    "type(marks)"
   ]
  },
  {
   "cell_type": "code",
   "execution_count": 50,
   "id": "71e3b2ae-9c2f-45ef-ac3c-defeab693955",
   "metadata": {},
   "outputs": [
    {
     "name": "stdin",
     "output_type": "stream",
     "text": [
      "Enter a price:  34\n"
     ]
    },
    {
     "name": "stdout",
     "output_type": "stream",
     "text": [
      "i will purchase\n"
     ]
    }
   ],
   "source": [
    "price = int(input(\"Enter a price: \"))\n",
    "if price > 1000:\n",
    "    print(\"i will not purchase\")\n",
    "else :\n",
    "    print(\"i will purchase\")"
   ]
  },
  {
   "cell_type": "code",
   "execution_count": 51,
   "id": "b3a18ce4-d1dc-420f-a33f-0f0e058308b9",
   "metadata": {},
   "outputs": [
    {
     "name": "stdin",
     "output_type": "stream",
     "text": [
      "Enter a price:  200\n"
     ]
    }
   ],
   "source": [
    "price = int(input(\"Enter a price: \"))\n",
    "if price > 1000:\n",
    "    print(\"i will not purchase\")"
   ]
  },
  {
   "cell_type": "code",
   "execution_count": 52,
   "id": "6b78e487-dbda-4d7f-b774-a93f4f4bc48d",
   "metadata": {},
   "outputs": [
    {
     "data": {
      "text/plain": [
       "int"
      ]
     },
     "execution_count": 52,
     "metadata": {},
     "output_type": "execute_result"
    }
   ],
   "source": [
    "type(price)"
   ]
  },
  {
   "cell_type": "code",
   "execution_count": 53,
   "id": "34b3e698-f2be-4ce3-af33-8e0de7ee59fe",
   "metadata": {},
   "outputs": [
    {
     "name": "stdin",
     "output_type": "stream",
     "text": [
      "Enter a price:  7000\n"
     ]
    },
    {
     "name": "stdout",
     "output_type": "stream",
     "text": [
      "i will not purchase\n",
      "this is too much\n"
     ]
    }
   ],
   "source": [
    "price = int(input(\"Enter a price: \"))\n",
    "if price > 1000:\n",
    "    print(\"i will not purchase\")\n",
    "    if price > 5000:\n",
    "        print(\"this is too much\")"
   ]
  },
  {
   "cell_type": "code",
   "execution_count": 57,
   "id": "ea0f13e2-d9dc-4ded-9ee7-218eeb86c2f9",
   "metadata": {},
   "outputs": [
    {
     "name": "stdin",
     "output_type": "stream",
     "text": [
      "Enter a price:  1500\n"
     ]
    },
    {
     "name": "stdout",
     "output_type": "stream",
     "text": [
      "i will not purchase\n",
      "its okay\n"
     ]
    }
   ],
   "source": [
    "price = int(input(\"Enter a price: \"))\n",
    "if price > 1000:\n",
    "    print(\"i will not purchase\")\n",
    "    if price > 5000:\n",
    "        print(\"this is too much\")\n",
    "    elif price < 2000:\n",
    "        print(\"its okay\")\n",
    "elif price < 1000:\n",
    "    print(\"i will purchase\")\n",
    "    print(\"i will not purchase\")\n",
    "    if price>5000:\n",
    "        print(\"this is too much\")\n",
    "    elif price<2000:\n",
    "        print(\"not intrested\")\n",
    "else :\n",
    "    print(\"not intrested\")\n",
    "    print(\"i will not purchase\")\n",
    "    if price > 5000:\n",
    "        print(\"this is too much\")\n",
    "    elif price < 2000:\n",
    "        print(\"its okay\")"
   ]
  },
  {
   "cell_type": "code",
   "execution_count": 67,
   "id": "110eba65-3fb7-4a8a-ad18-7d9c6ffdda27",
   "metadata": {},
   "outputs": [],
   "source": [
    "l = [1,2,3,4,5,6,7,8,9]"
   ]
  },
  {
   "cell_type": "code",
   "execution_count": 68,
   "id": "0f7b21e2-5cce-47e8-8a65-56f359a7b29e",
   "metadata": {},
   "outputs": [
    {
     "data": {
      "text/plain": [
       "[1, 2, 3, 4, 5, 6, 7, 8, 9]"
      ]
     },
     "execution_count": 68,
     "metadata": {},
     "output_type": "execute_result"
    }
   ],
   "source": [
    "l"
   ]
  },
  {
   "cell_type": "code",
   "execution_count": 69,
   "id": "d5681845-4696-468e-bbe9-abfaf805f77a",
   "metadata": {},
   "outputs": [
    {
     "data": {
      "text/plain": [
       "2"
      ]
     },
     "execution_count": 69,
     "metadata": {},
     "output_type": "execute_result"
    }
   ],
   "source": [
    "l[0]+1"
   ]
  },
  {
   "cell_type": "code",
   "execution_count": 70,
   "id": "0932475c-afb4-46d3-884e-c9bbea6baca6",
   "metadata": {},
   "outputs": [],
   "source": [
    "l1 = []"
   ]
  },
  {
   "cell_type": "code",
   "execution_count": 71,
   "id": "bc5ed120-831a-412c-a8d9-e3b1ab9322ed",
   "metadata": {},
   "outputs": [],
   "source": [
    "l1.append(l[0]+1)"
   ]
  },
  {
   "cell_type": "code",
   "execution_count": 72,
   "id": "222397a5-f2d6-41c1-9567-66106ef33a44",
   "metadata": {},
   "outputs": [
    {
     "data": {
      "text/plain": [
       "[2]"
      ]
     },
     "execution_count": 72,
     "metadata": {},
     "output_type": "execute_result"
    }
   ],
   "source": [
    "l1"
   ]
  },
  {
   "cell_type": "code",
   "execution_count": 73,
   "id": "282a26d5-6fd7-4714-8c19-d627d8da0fbc",
   "metadata": {},
   "outputs": [],
   "source": [
    "l = [1,2,3,4,5,6,7,8,9]"
   ]
  },
  {
   "cell_type": "code",
   "execution_count": 74,
   "id": "3de36a7a-86f2-4b95-bf1c-7a3b59896438",
   "metadata": {},
   "outputs": [
    {
     "name": "stdout",
     "output_type": "stream",
     "text": [
      "1\n",
      "2\n",
      "3\n",
      "4\n",
      "5\n",
      "6\n",
      "7\n",
      "8\n",
      "9\n"
     ]
    }
   ],
   "source": [
    "for i in l:\n",
    "    print(i)"
   ]
  },
  {
   "cell_type": "code",
   "execution_count": 75,
   "id": "b21f7eaf-9872-4b36-938e-e467278af0a6",
   "metadata": {},
   "outputs": [
    {
     "name": "stdout",
     "output_type": "stream",
     "text": [
      "2\n",
      "3\n",
      "4\n",
      "5\n",
      "6\n",
      "7\n",
      "8\n",
      "9\n",
      "10\n"
     ]
    }
   ],
   "source": [
    "for i in l:\n",
    "    print(i+1)"
   ]
  },
  {
   "cell_type": "code",
   "execution_count": 76,
   "id": "6f6ecd61-bf8f-43e6-b890-60a3535caa1e",
   "metadata": {},
   "outputs": [
    {
     "name": "stdout",
     "output_type": "stream",
     "text": [
      "2\n",
      "3\n",
      "4\n",
      "5\n",
      "6\n",
      "7\n",
      "8\n",
      "9\n",
      "10\n"
     ]
    },
    {
     "data": {
      "text/plain": [
       "[2, 3, 4, 5, 6, 7, 8, 9, 10]"
      ]
     },
     "execution_count": 76,
     "metadata": {},
     "output_type": "execute_result"
    }
   ],
   "source": [
    "l1 = []\n",
    "for i in l:\n",
    "    print(i+1)\n",
    "    l1.append(i+1)\n",
    "l1"
   ]
  },
  {
   "cell_type": "code",
   "execution_count": 77,
   "id": "92249da0-24fb-42d6-9d25-00b1fdd3b3e3",
   "metadata": {},
   "outputs": [
    {
     "data": {
      "text/plain": [
       "[1, 2, 3, 4, 5, 6, 7, 8, 9]"
      ]
     },
     "execution_count": 77,
     "metadata": {},
     "output_type": "execute_result"
    }
   ],
   "source": [
    "l"
   ]
  },
  {
   "cell_type": "code",
   "execution_count": 78,
   "id": "0d2b8fde-80af-496c-b2ba-7c2ccefbd6c8",
   "metadata": {},
   "outputs": [],
   "source": [
    "l = [\"kbs\", \"kumar\",\"pwskills\",\"course\"]"
   ]
  },
  {
   "cell_type": "code",
   "execution_count": 79,
   "id": "0b57a337-b6d7-4f9c-a1b3-0056208f7f14",
   "metadata": {},
   "outputs": [
    {
     "data": {
      "text/plain": [
       "['kbs', 'kumar', 'pwskills', 'course']"
      ]
     },
     "execution_count": 79,
     "metadata": {},
     "output_type": "execute_result"
    }
   ],
   "source": [
    "l"
   ]
  },
  {
   "cell_type": "code",
   "execution_count": 81,
   "id": "e3224432-1b1f-4199-9e86-95fb784734fd",
   "metadata": {},
   "outputs": [
    {
     "name": "stdout",
     "output_type": "stream",
     "text": [
      "kbs\n",
      "kumar\n",
      "pwskills\n",
      "course\n"
     ]
    }
   ],
   "source": [
    "for i in l:\n",
    "    print(i)"
   ]
  },
  {
   "cell_type": "code",
   "execution_count": 82,
   "id": "68640a04-f820-45fa-96b1-ef4ad7284e76",
   "metadata": {},
   "outputs": [
    {
     "name": "stdout",
     "output_type": "stream",
     "text": [
      "kbs\n",
      "kumar\n",
      "pwskills\n",
      "course\n"
     ]
    }
   ],
   "source": [
    "l1 = []\n",
    "for i in l:\n",
    "    print(i)\n",
    "    l1.append(i.upper())"
   ]
  },
  {
   "cell_type": "code",
   "execution_count": 83,
   "id": "285ea73c-13ba-4010-8875-0f275af3c47e",
   "metadata": {},
   "outputs": [
    {
     "data": {
      "text/plain": [
       "['KBS', 'KUMAR', 'PWSKILLS', 'COURSE']"
      ]
     },
     "execution_count": 83,
     "metadata": {},
     "output_type": "execute_result"
    }
   ],
   "source": [
    "l1"
   ]
  },
  {
   "cell_type": "code",
   "execution_count": 84,
   "id": "69b35670-bdb1-4fad-9478-6141c6686c1c",
   "metadata": {},
   "outputs": [],
   "source": [
    "l = [1,2,3,4,\"kbs\",\"kumar\",345,44344,\"abc\"]"
   ]
  },
  {
   "cell_type": "code",
   "execution_count": 85,
   "id": "998d4fee-1c52-4099-91f9-f828ee5d8cf5",
   "metadata": {},
   "outputs": [
    {
     "data": {
      "text/plain": [
       "[1, 2, 3, 4, 'kbs', 'kumar', 345, 44344, 'abc']"
      ]
     },
     "execution_count": 85,
     "metadata": {},
     "output_type": "execute_result"
    }
   ],
   "source": [
    "l"
   ]
  },
  {
   "cell_type": "code",
   "execution_count": 86,
   "id": "26ee0cd0-1bca-44dc-839f-a35bf2433de2",
   "metadata": {},
   "outputs": [],
   "source": [
    "l1_num = []\n",
    "l2_str = []\n",
    "for i in l:\n",
    "    if type(i) == int or type(i) == float:\n",
    "        l1_num.append(i)\n",
    "    else :\n",
    "        l2_str.append(i)"
   ]
  },
  {
   "cell_type": "code",
   "execution_count": 87,
   "id": "a3b1ae1b-82b4-46dd-88ff-04e0af8eddb2",
   "metadata": {},
   "outputs": [
    {
     "data": {
      "text/plain": [
       "['KBS', 'KUMAR', 'PWSKILLS', 'COURSE']"
      ]
     },
     "execution_count": 87,
     "metadata": {},
     "output_type": "execute_result"
    }
   ],
   "source": [
    "l1"
   ]
  },
  {
   "cell_type": "code",
   "execution_count": 88,
   "id": "f5f15a51-47ff-4c7d-9f41-872fb5404254",
   "metadata": {},
   "outputs": [
    {
     "data": {
      "text/plain": [
       "[1, 2, 3, 4, 345, 44344]"
      ]
     },
     "execution_count": 88,
     "metadata": {},
     "output_type": "execute_result"
    }
   ],
   "source": [
    "l1_num"
   ]
  },
  {
   "cell_type": "code",
   "execution_count": 89,
   "id": "85ed80a7-b6b0-4d97-9e71-6b0d08d3d488",
   "metadata": {},
   "outputs": [
    {
     "data": {
      "text/plain": [
       "['kbs', 'kumar', 'abc']"
      ]
     },
     "execution_count": 89,
     "metadata": {},
     "output_type": "execute_result"
    }
   ],
   "source": [
    "l2_str"
   ]
  },
  {
   "cell_type": "code",
   "execution_count": null,
   "id": "883af75f-dc81-43f7-b280-5853c72bff55",
   "metadata": {},
   "outputs": [],
   "source": []
  }
 ],
 "metadata": {
  "kernelspec": {
   "display_name": "Python 3 (ipykernel)",
   "language": "python",
   "name": "python3"
  },
  "language_info": {
   "codemirror_mode": {
    "name": "ipython",
    "version": 3
   },
   "file_extension": ".py",
   "mimetype": "text/x-python",
   "name": "python",
   "nbconvert_exporter": "python",
   "pygments_lexer": "ipython3",
   "version": "3.10.8"
  }
 },
 "nbformat": 4,
 "nbformat_minor": 5
}
